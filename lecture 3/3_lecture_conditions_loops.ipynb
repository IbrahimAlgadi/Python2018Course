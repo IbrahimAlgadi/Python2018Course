{
 "cells": [
  {
   "cell_type": "markdown",
   "metadata": {},
   "source": [
    "<center>\n",
    "    <h1 style=\"font-size:50px\">\n",
    "        Programmers Aren't <i style=\"color:red\">Born</i> <br >They are <i style=\"color:red\">Made</i> <br >\n",
    "        <br >\n",
    "        المبرمجين لا يولدون<br >\n",
    "        انما يتم بنائهم\n",
    "    </h1>\n",
    "    <h4 style=\"font-size:20px\"> \n",
    "        <i style=\"color:red;\"> Python Programming Course </i> <br >\n",
    "        <i style=\"color:blue;\">Prepared By:  Ibrahim Muhammed Abubaker Muhammed</i>\n",
    "    </h4>\n",
    "</center>"
   ]
  },
  {
   "cell_type": "markdown",
   "metadata": {},
   "source": [
    "# Table of Contets\n",
    "* [Conditions](how to use variables better)\n",
    "* [If and Nested IF](Decsion Making)\n",
    "* [Pythonic For Loop](For loop used for looping over bing data)\n",
    "* [While Loop](While used for looping over big data)\n",
    "* [Pass, Break, Continue](Words)\n",
    "* [Exception Handling](Used For Handling Errors)"
   ]
  },
  {
   "cell_type": "markdown",
   "metadata": {},
   "source": [
    "# the lonly IF"
   ]
  },
  {
   "cell_type": "markdown",
   "metadata": {},
   "source": [
    "##### The Python Comparison Operators"
   ]
  },
  {
   "cell_type": "markdown",
   "metadata": {},
   "source": [
    "\n",
    "|Exepression | Description\n",
    "|:-:         |:-:\n",
    "|x == y      |x equals y.\n",
    "|x < y       |x is less than y.\n",
    "|x > y       |x is greater than y.\n",
    "|x >= y      |x is greater than or equal to y.\n",
    "|x <= y      |x is less than or equal to y.\n",
    "|x != y or x<>y     |x is not equal to y.\n",
    "|x is y      |x and y are the same object.\n",
    "|x is not y  |x and y are different objects.\n",
    "|x in y      |x is a member of the container (e.g., sequence) y.\n",
    "|x not in y  |x is not a member of the container (e.g., sequence) y."
   ]
  },
  {
   "cell_type": "code",
   "execution_count": 2,
   "metadata": {
    "collapsed": false
   },
   "outputs": [
    {
     "name": "stdout",
     "output_type": "stream",
     "text": [
      "Number Is Positive\n"
     ]
    }
   ],
   "source": [
    "# I can recive an input from the user and use it to compare\n",
    "x = 1\n",
    "if x > 0:\n",
    "    print(\"Number Is Positive\")\n",
    "elif x < 0:\n",
    "    print(\"Number Is Negative\")\n",
    "else:\n",
    "    print(\"Number Equal To Zero\")\n"
   ]
  },
  {
   "cell_type": "code",
   "execution_count": 3,
   "metadata": {
    "collapsed": false
   },
   "outputs": [
    {
     "name": "stdout",
     "output_type": "stream",
     "text": [
      "Welcome user\n"
     ]
    }
   ],
   "source": [
    "name = \"ibrahim\"\n",
    "if name in [\"mohammed\", \"ali\", \"kalid\"]:\n",
    "    print (\"Welcome Admin\")\n",
    "elif name in [\"ibrahim\", \"mohammed\", \"omer\"]:\n",
    "    print(\"Welcome user\")\n",
    "else:\n",
    "    print(\"Not Recognized\")\n"
   ]
  },
  {
   "cell_type": "code",
   "execution_count": 4,
   "metadata": {
    "collapsed": false
   },
   "outputs": [
    {
     "name": "stdout",
     "output_type": "stream",
     "text": [
      "welcome to the normal world\n"
     ]
    }
   ],
   "source": [
    "name = \"Ibrahim\"\n",
    "allowed = [\"Ali\", \"Hussam\", \"Mohammed\", \"Hatim\"]\n",
    "\n",
    "if name in allowed:\n",
    "    print(\"Welcome to the world of python\")\n",
    "\n",
    "if name not in allowed:\n",
    "    print(\"welcome to the normal world\")"
   ]
  },
  {
   "cell_type": "code",
   "execution_count": 5,
   "metadata": {
    "collapsed": false
   },
   "outputs": [
    {
     "name": "stdout",
     "output_type": "stream",
     "text": [
      "Hello Ibrahim, you can enter VIP\n"
     ]
    }
   ],
   "source": [
    "if name is \"Ibrahim\":\n",
    "    print(\"Hello Ibrahim, you can enter VIP\")"
   ]
  },
  {
   "cell_type": "code",
   "execution_count": 1,
   "metadata": {
    "collapsed": false
   },
   "outputs": [
    {
     "data": {
      "text/plain": [
       "False"
      ]
     },
     "execution_count": 1,
     "metadata": {},
     "output_type": "execute_result"
    }
   ],
   "source": [
    "\"Ibrahim\" == \"ibrahim\""
   ]
  },
  {
   "cell_type": "code",
   "execution_count": 2,
   "metadata": {
    "collapsed": false
   },
   "outputs": [
    {
     "data": {
      "text/plain": [
       "True"
      ]
     },
     "execution_count": 2,
     "metadata": {},
     "output_type": "execute_result"
    }
   ],
   "source": [
    "\"Ibrahim\" == \"Ibrahim\""
   ]
  },
  {
   "cell_type": "code",
   "execution_count": 9,
   "metadata": {
    "collapsed": false
   },
   "outputs": [
    {
     "name": "stdout",
     "output_type": "stream",
     "text": [
      "Yes 1 Is 1\n"
     ]
    }
   ],
   "source": [
    "if 1 is 7:\n",
    "    print \"No 1 Is Not 7\"\n",
    "elif 1 is 1:\n",
    "    print \"Yes 1 Is 1\""
   ]
  },
  {
   "cell_type": "code",
   "execution_count": 13,
   "metadata": {
    "collapsed": false
   },
   "outputs": [
    {
     "name": "stdout",
     "output_type": "stream",
     "text": [
      "True\n",
      "True\n",
      "False\n",
      "True\n"
     ]
    }
   ],
   "source": [
    "love = True # love is a true thing\n",
    "pain = True # also pain is a true thing\n",
    "\n",
    "good = True # good is nice and true\n",
    "bad = False # bad is not nice and false\n",
    "\n",
    "print(love is good) # True\n",
    "print(love is pain) # True\n",
    "print(love is bad) # False\n",
    "print(love is good and love is pain) # True"
   ]
  },
  {
   "cell_type": "code",
   "execution_count": 16,
   "metadata": {
    "collapsed": false
   },
   "outputs": [
    {
     "data": {
      "text/plain": [
       "True"
      ]
     },
     "execution_count": 16,
     "metadata": {},
     "output_type": "execute_result"
    }
   ],
   "source": [
    "a = 1\n",
    "b = 2\n",
    "a != b "
   ]
  },
  {
   "cell_type": "code",
   "execution_count": 17,
   "metadata": {
    "collapsed": false
   },
   "outputs": [
    {
     "data": {
      "text/plain": [
       "True"
      ]
     },
     "execution_count": 17,
     "metadata": {},
     "output_type": "execute_result"
    }
   ],
   "source": [
    "a <> b"
   ]
  },
  {
   "cell_type": "markdown",
   "metadata": {},
   "source": [
    "The Expression !=  and <> are the same and they mean not equal to"
   ]
  },
  {
   "cell_type": "markdown",
   "metadata": {},
   "source": [
    "# Loops"
   ]
  },
  {
   "cell_type": "code",
   "execution_count": 19,
   "metadata": {
    "collapsed": false
   },
   "outputs": [
    {
     "name": "stdout",
     "output_type": "stream",
     "text": [
      "hello\n",
      "hello\n",
      "hello\n",
      "hello\n",
      "hello\n"
     ]
    }
   ],
   "source": [
    "for looper in [1, 2, 3, 4, 5]:\n",
    "    print \"hello\""
   ]
  },
  {
   "cell_type": "code",
   "execution_count": 20,
   "metadata": {
    "collapsed": false
   },
   "outputs": [
    {
     "name": "stdout",
     "output_type": "stream",
     "text": [
      "1\n",
      "2\n",
      "3\n",
      "4\n",
      "5\n",
      "6\n"
     ]
    }
   ],
   "source": [
    "my_list = [1,2,3,4,5,6]\n",
    "for l in my_list:\n",
    "    print l"
   ]
  },
  {
   "cell_type": "code",
   "execution_count": 21,
   "metadata": {
    "collapsed": false
   },
   "outputs": [
    {
     "name": "stdout",
     "output_type": "stream",
     "text": [
      "5 * 1 = 5\n",
      "5 * 2 = 10\n",
      "5 * 3 = 15\n",
      "5 * 4 = 20\n",
      "5 * 5 = 25\n",
      "5 * 6 = 30\n",
      "5 * 7 = 35\n",
      "5 * 8 = 40\n",
      "5 * 9 = 45\n"
     ]
    }
   ],
   "source": [
    "# make the multiplication table for 5\n",
    "for i in [1,2,3,4,5,6,7,8,9]:\n",
    "    print \"5 * \"+str(i)+\" = \"+str(5*i)"
   ]
  },
  {
   "cell_type": "markdown",
   "metadata": {},
   "source": [
    "#### Using range function"
   ]
  },
  {
   "cell_type": "code",
   "execution_count": 22,
   "metadata": {
    "collapsed": false
   },
   "outputs": [
    {
     "name": "stdout",
     "output_type": "stream",
     "text": [
      "5 * 1 = 5\n",
      "5 * 2 = 10\n",
      "5 * 3 = 15\n",
      "5 * 4 = 20\n",
      "5 * 5 = 25\n",
      "5 * 6 = 30\n",
      "5 * 7 = 35\n",
      "5 * 8 = 40\n"
     ]
    }
   ],
   "source": [
    "for i in range(1,9):\n",
    "    print \"5 * \"+str(i)+\" = \"+str(5*i)"
   ]
  },
  {
   "cell_type": "code",
   "execution_count": 23,
   "metadata": {
    "collapsed": false
   },
   "outputs": [
    {
     "name": "stdout",
     "output_type": "stream",
     "text": [
      "5 * 1 = 5\n",
      "5 * 2 = 10\n",
      "5 * 3 = 15\n",
      "5 * 4 = 20\n",
      "5 * 5 = 25\n",
      "5 * 6 = 30\n",
      "5 * 7 = 35\n",
      "5 * 8 = 40\n",
      "5 * 9 = 45\n"
     ]
    }
   ],
   "source": [
    "for i in range(1,10):\n",
    "    print \"5 * \"+str(i)+\" = \"+str(5*i)"
   ]
  },
  {
   "cell_type": "code",
   "execution_count": 25,
   "metadata": {
    "collapsed": false
   },
   "outputs": [
    {
     "name": "stdout",
     "output_type": "stream",
     "text": [
      "I\n",
      "b\n",
      "r\n",
      "a\n",
      "h\n",
      "i\n",
      "m\n",
      " \n",
      "A\n",
      "l\n",
      "g\n",
      "a\n",
      "d\n",
      "i\n"
     ]
    }
   ],
   "source": [
    "# python deals with string as list of letters\n",
    "for let in \"Ibrahim Algadi\":\n",
    "    print(let)"
   ]
  },
  {
   "cell_type": "markdown",
   "metadata": {},
   "source": [
    "#### a program that calculate the multiplications tables from 1 to 3"
   ]
  },
  {
   "cell_type": "markdown",
   "metadata": {},
   "source": [
    "* we make 2 variables \n",
    "* x holds numbers from 1 to 3 \n",
    "* y holds numbers from 1 to 12 \n",
    "* we make 2 loops \n",
    "* loop 1 from 1 to 3 \n",
    "* inside it there is a loop from 1 to 12 \n",
    "* this is called nested loops "
   ]
  },
  {
   "cell_type": "code",
   "execution_count": 28,
   "metadata": {
    "collapsed": true
   },
   "outputs": [],
   "source": [
    "# write the program"
   ]
  },
  {
   "cell_type": "code",
   "execution_count": 29,
   "metadata": {
    "collapsed": false
   },
   "outputs": [
    {
     "name": "stdout",
     "output_type": "stream",
     "text": [
      "6\n",
      "5\n",
      "4\n",
      "3\n",
      "2\n",
      "1\n"
     ]
    }
   ],
   "source": [
    "x = 6\n",
    "while x != 0:\n",
    "    print x\n",
    "    x = x - 1"
   ]
  },
  {
   "cell_type": "code",
   "execution_count": 30,
   "metadata": {
    "collapsed": true
   },
   "outputs": [],
   "source": [
    "# lets practice while and break out of it"
   ]
  },
  {
   "cell_type": "code",
   "execution_count": 1,
   "metadata": {
    "collapsed": true
   },
   "outputs": [],
   "source": [
    "programming_languages = {\n",
    "'1': 'python',\n",
    "'2': 'c',\n",
    "'3': 'ruby',\n",
    "'4': 'c++',\n",
    "}"
   ]
  },
  {
   "cell_type": "code",
   "execution_count": 2,
   "metadata": {
    "collapsed": false
   },
   "outputs": [
    {
     "data": {
      "text/plain": [
       "['1', '3', '2', '4']"
      ]
     },
     "execution_count": 2,
     "metadata": {},
     "output_type": "execute_result"
    }
   ],
   "source": [
    "programming_languages.keys()"
   ]
  },
  {
   "cell_type": "code",
   "execution_count": 3,
   "metadata": {
    "collapsed": true
   },
   "outputs": [],
   "source": [
    "programming_languages = {\n",
    " 1 : 'python',\n",
    " 2 : 'c',\n",
    " 3 : 'ruby',\n",
    " 4 : 'c++',\n",
    "}"
   ]
  },
  {
   "cell_type": "code",
   "execution_count": 4,
   "metadata": {
    "collapsed": false
   },
   "outputs": [
    {
     "data": {
      "text/plain": [
       "[1, 2, 3, 4]"
      ]
     },
     "execution_count": 4,
     "metadata": {},
     "output_type": "execute_result"
    }
   ],
   "source": [
    "programming_languages.keys()"
   ]
  },
  {
   "cell_type": "code",
   "execution_count": 5,
   "metadata": {
    "collapsed": false
   },
   "outputs": [
    {
     "data": {
      "text/plain": [
       "'python'"
      ]
     },
     "execution_count": 5,
     "metadata": {},
     "output_type": "execute_result"
    }
   ],
   "source": [
    "# programming_languages[key]\n",
    "programming_languages[1]"
   ]
  },
  {
   "cell_type": "code",
   "execution_count": 6,
   "metadata": {
    "collapsed": false
   },
   "outputs": [
    {
     "name": "stdout",
     "output_type": "stream",
     "text": [
      "python\n",
      "c\n",
      "ruby\n",
      "c++\n"
     ]
    }
   ],
   "source": [
    "for i in [1, 2, 3, 4]:\n",
    "    print(programming_languages[i])"
   ]
  },
  {
   "cell_type": "code",
   "execution_count": 7,
   "metadata": {
    "collapsed": false
   },
   "outputs": [
    {
     "name": "stdout",
     "output_type": "stream",
     "text": [
      "python\n",
      "c\n",
      "ruby\n",
      "c++\n"
     ]
    }
   ],
   "source": [
    "for i in programming_languages.keys():\n",
    "    print(programming_languages[i])"
   ]
  },
  {
   "cell_type": "code",
   "execution_count": null,
   "metadata": {
    "collapsed": true
   },
   "outputs": [],
   "source": [
    "my_dict = {\n",
    "    'name':['ibrahim', 'Ali', 'Ahmed'],\n",
    "    'Age': [21, 30 , 40]\n",
    "}\n",
    "# using for loop print the contents of this dictionary every name\n",
    "# agaist it's age"
   ]
  },
  {
   "cell_type": "markdown",
   "metadata": {},
   "source": [
    "# Functions In Python"
   ]
  },
  {
   "cell_type": "raw",
   "metadata": {},
   "source": [
    "def function_name(parameters):\n",
    "    function_body"
   ]
  },
  {
   "cell_type": "code",
   "execution_count": null,
   "metadata": {
    "collapsed": true
   },
   "outputs": [],
   "source": []
  }
 ],
 "metadata": {
  "anaconda-cloud": {},
  "kernelspec": {
   "display_name": "Python [conda root]",
   "language": "python",
   "name": "conda-root-py"
  },
  "language_info": {
   "codemirror_mode": {
    "name": "ipython",
    "version": 2
   },
   "file_extension": ".py",
   "mimetype": "text/x-python",
   "name": "python",
   "nbconvert_exporter": "python",
   "pygments_lexer": "ipython2",
   "version": "2.7.12"
  }
 },
 "nbformat": 4,
 "nbformat_minor": 1
}
