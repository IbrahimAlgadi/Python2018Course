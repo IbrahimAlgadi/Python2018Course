{
 "cells": [
  {
   "cell_type": "markdown",
   "metadata": {},
   "source": [
    "<center>\n",
    "    <h1 style=\"font-size:50px\">\n",
    "        <i style=\"color:red;\">Practice</i> <i style=\"color:green;\">Practice</i>\n",
    "        <i style=\"color:blue;\">Practice </i>\n",
    "    </h1>\n",
    "    <h4 style=\"font-size:20px\"> \n",
    "        <i style=\"color:red;\"> Python Programming Course </i> <br >\n",
    "        <i style=\"color:blue;\">Prepared By:  Ibrahim Muhammed Abubaker Muhammed</i>\n",
    "    </h4>\n",
    "</center>"
   ]
  },
  {
   "cell_type": "markdown",
   "metadata": {},
   "source": [
    "# Table of Contets\n",
    "* [Built-in Functions](Already pythonic functions)\n",
    "* [User Defined Function](Can I make one)\n",
    "* [Global and Local Variables](Global and Local)\n",
    "* [More on Functions](get more examples to understand how functions work)\n",
    "* [End of the course](The course may not stop here we can resume in holiday)"
   ]
  },
  {
   "cell_type": "markdown",
   "metadata": {},
   "source": [
    "# Built-in Functions\n",
    "\n",
    "#### more infromations on the python official site about built in functions\n",
    "\n",
    "https://docs.python.org/2/library/functions.html"
   ]
  },
  {
   "cell_type": "code",
   "execution_count": 2,
   "metadata": {
    "collapsed": true
   },
   "outputs": [],
   "source": [
    "# we can study the functions from the python website"
   ]
  },
  {
   "cell_type": "code",
   "execution_count": null,
   "metadata": {
    "collapsed": true
   },
   "outputs": [],
   "source": [
    "def add_numbers(x, y):"
   ]
  }
 ],
 "metadata": {
  "anaconda-cloud": {},
  "kernelspec": {
   "display_name": "Python [conda root]",
   "language": "python",
   "name": "conda-root-py"
  },
  "language_info": {
   "codemirror_mode": {
    "name": "ipython",
    "version": 2
   },
   "file_extension": ".py",
   "mimetype": "text/x-python",
   "name": "python",
   "nbconvert_exporter": "python",
   "pygments_lexer": "ipython2",
   "version": "2.7.12"
  }
 },
 "nbformat": 4,
 "nbformat_minor": 1
}
