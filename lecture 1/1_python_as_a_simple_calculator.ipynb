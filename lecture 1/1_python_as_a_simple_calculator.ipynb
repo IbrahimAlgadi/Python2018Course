{
 "cells": [
  {
   "cell_type": "markdown",
   "metadata": {},
   "source": [
    "<center>\n",
    "    <h1 style=\"font-size:50px\">\n",
    "        Programmers Aren't <i style=\"color:red\">Born</i> <br >They are <i style=\"color:red\">Made</i> <br >\n",
    "        <br >\n",
    "        المبرمجين لا يولدون<br >\n",
    "        انما يتم بنائهم\n",
    "    </h1>\n",
    "    <h4 style=\"font-size:20px\"> \n",
    "        <i style=\"color:red;\"> Python Programming Course </i> <br >\n",
    "        <i style=\"color:blue;\">Prepared By:  Ibrahim Muhammed Abubaker Muhammed</i>\n",
    "    </h4>\n",
    "</center>"
   ]
  },
  {
   "cell_type": "markdown",
   "metadata": {},
   "source": [
    "# Table of Contets\n",
    "* [Installing Python Language](Python Language Basics)\n",
    "* [Python As Simple Calculator](Using Python For Simple Calculations)\n",
    "* [Better Coding Skills](Using Jupyter Notebook and store your results in much neat way)\n",
    "* [Operators](Understanding how they work)\n",
    "* [Varibles](Using variable in working)\n",
    "* [Datatypes](Understanding datatypes)"
   ]
  },
  {
   "cell_type": "markdown",
   "metadata": {},
   "source": [
    "## Python As Simple Calculator\n",
    "\n",
    "we can do simple python calculations and then we can put everything in this notebook so we can return to it later on.."
   ]
  },
  {
   "cell_type": "code",
   "execution_count": 9,
   "metadata": {
    "collapsed": true
   },
   "outputs": [],
   "source": [
    "# when i put # before the code it will become a comment\n",
    "# a comment is unprinted code we use it to clarify for our selves the steps used in the programm\n",
    "# writing so when we return after a period of time we will know exactly what we have done step by\n",
    "# step"
   ]
  },
  {
   "cell_type": "code",
   "execution_count": 2,
   "metadata": {
    "collapsed": false,
    "nbpresent": {
     "id": "1b93aea9-ed5b-45fc-b676-eb3348119132"
    }
   },
   "outputs": [
    {
     "data": {
      "text/plain": [
       "2"
      ]
     },
     "execution_count": 2,
     "metadata": {},
     "output_type": "execute_result"
    }
   ],
   "source": [
    "1+1  # addition "
   ]
  },
  {
   "cell_type": "code",
   "execution_count": 3,
   "metadata": {
    "collapsed": false,
    "nbpresent": {
     "id": "f3fdf530-a746-4edc-bcb3-74cc54d6f728"
    }
   },
   "outputs": [
    {
     "data": {
      "text/plain": [
       "5"
      ]
     },
     "execution_count": 3,
     "metadata": {},
     "output_type": "execute_result"
    }
   ],
   "source": [
    "2+3"
   ]
  },
  {
   "cell_type": "code",
   "execution_count": 3,
   "metadata": {
    "collapsed": false,
    "nbpresent": {
     "id": "f107cce6-2437-417d-992a-7c4f6bbaf51a"
    }
   },
   "outputs": [
    {
     "data": {
      "text/plain": [
       "2"
      ]
     },
     "execution_count": 3,
     "metadata": {},
     "output_type": "execute_result"
    }
   ],
   "source": [
    "5-3"
   ]
  },
  {
   "cell_type": "code",
   "execution_count": 4,
   "metadata": {
    "collapsed": false,
    "nbpresent": {
     "id": "d9c8a334-d0af-4e13-b01b-d36af95ada91"
    }
   },
   "outputs": [
    {
     "data": {
      "text/plain": [
       "0"
      ]
     },
     "execution_count": 4,
     "metadata": {},
     "output_type": "execute_result"
    }
   ],
   "source": [
    "2-2"
   ]
  },
  {
   "cell_type": "code",
   "execution_count": 5,
   "metadata": {
    "collapsed": false,
    "nbpresent": {
     "id": "4ea37f61-cca2-49a0-badf-7d02172b4ed1"
    }
   },
   "outputs": [
    {
     "data": {
      "text/plain": [
       "-1"
      ]
     },
     "execution_count": 5,
     "metadata": {},
     "output_type": "execute_result"
    }
   ],
   "source": [
    "2-3"
   ]
  },
  {
   "cell_type": "markdown",
   "metadata": {
    "nbpresent": {
     "id": "b6746f56-3186-4d7f-932e-c963da929091"
    }
   },
   "source": [
    "# OPERATORS"
   ]
  },
  {
   "cell_type": "markdown",
   "metadata": {
    "nbpresent": {
     "id": "b1114516-8e46-460c-80e0-82db866adb2b"
    }
   },
   "source": [
    "### Arithmetic\n",
    "\n",
    "addition | subtraction |multiplication | division  |floor<br>division  |exponentiation | remainder\n",
    ":-: | :-: | :-: | :-: | :-: | :-: | :-:\n",
    "`+` | `-` |`*`| `/` | `//` | `**` | `%`\n",
    "\n",
    "***\n",
    "\n",
    "### Comparison\n",
    "bigger than | smaller than |bigger than or equal | smaller than or equal  |not equal\n",
    " :-:        |    :-:       |     :-:             | :-:                    | :-:    \n",
    "`>`         | `<`          |`<=`                 | `>=`                   | `!=`\n",
    "\n",
    "***\n",
    "\n",
    "### logical operators\n",
    "AND   |  OR   | NOT \n",
    ":-:   |  :-:  | :-:\n",
    "`and` | `or`  | `not`\n",
    " \n",
    " Bitwise AND   |  Bitwise OR          | Bitwise NOT \n",
    " :-:           |  :-:                 | :-:\n",
    " `&`           | <code>&#124;</code>  | ``~`` \n",
    " \n",
    " Bitwise are used binary computations and we can use them as we go along"
   ]
  },
  {
   "cell_type": "code",
   "execution_count": 8,
   "metadata": {
    "collapsed": false,
    "nbpresent": {
     "id": "bd381888-a69e-4705-a946-e71ddcaf9ba7"
    }
   },
   "outputs": [
    {
     "data": {
      "text/plain": [
       "10"
      ]
     },
     "execution_count": 8,
     "metadata": {},
     "output_type": "execute_result"
    }
   ],
   "source": [
    "5 + 5"
   ]
  },
  {
   "cell_type": "code",
   "execution_count": 9,
   "metadata": {
    "collapsed": false,
    "nbpresent": {
     "id": "4b97ec67-bc29-4e84-ba32-269871467e47"
    }
   },
   "outputs": [
    {
     "data": {
      "text/plain": [
       "25"
      ]
     },
     "execution_count": 9,
     "metadata": {},
     "output_type": "execute_result"
    }
   ],
   "source": [
    "5 * 5"
   ]
  },
  {
   "cell_type": "markdown",
   "metadata": {},
   "source": [
    "this is exponenet"
   ]
  },
  {
   "cell_type": "code",
   "execution_count": 11,
   "metadata": {
    "collapsed": false,
    "nbpresent": {
     "id": "75515656-58b1-4b74-8727-8ea529714332"
    }
   },
   "outputs": [
    {
     "data": {
      "text/plain": [
       "25"
      ]
     },
     "execution_count": 11,
     "metadata": {},
     "output_type": "execute_result"
    }
   ],
   "source": [
    "5**2"
   ]
  },
  {
   "cell_type": "markdown",
   "metadata": {},
   "source": [
    "$ 6^2 $"
   ]
  },
  {
   "cell_type": "code",
   "execution_count": 4,
   "metadata": {
    "collapsed": false
   },
   "outputs": [
    {
     "data": {
      "text/plain": [
       "36"
      ]
     },
     "execution_count": 4,
     "metadata": {},
     "output_type": "execute_result"
    }
   ],
   "source": [
    "6**2"
   ]
  },
  {
   "cell_type": "markdown",
   "metadata": {},
   "source": [
    "when i divide it is better to insure numbers have $ \\cdot $ in one of them"
   ]
  },
  {
   "cell_type": "code",
   "execution_count": 5,
   "metadata": {
    "collapsed": false
   },
   "outputs": [
    {
     "data": {
      "text/plain": [
       "1"
      ]
     },
     "execution_count": 5,
     "metadata": {},
     "output_type": "execute_result"
    }
   ],
   "source": [
    "5/5"
   ]
  },
  {
   "cell_type": "code",
   "execution_count": 5,
   "metadata": {
    "collapsed": false,
    "nbpresent": {
     "id": "d06cd171-637c-4964-9b5a-38f91e9af78d"
    }
   },
   "outputs": [
    {
     "data": {
      "text/plain": [
       "1.0"
      ]
     },
     "execution_count": 5,
     "metadata": {},
     "output_type": "execute_result"
    }
   ],
   "source": [
    "5.0/5.0"
   ]
  },
  {
   "cell_type": "markdown",
   "metadata": {},
   "source": [
    "Why? Because There will be an **ERROR** if there is a fraction as a result, as down"
   ]
  },
  {
   "cell_type": "code",
   "execution_count": 22,
   "metadata": {
    "collapsed": false,
    "nbpresent": {
     "id": "fd54fdf7-89c0-4867-b133-f06aa7270c22"
    }
   },
   "outputs": [
    {
     "data": {
      "text/plain": [
       "2"
      ]
     },
     "execution_count": 22,
     "metadata": {},
     "output_type": "execute_result"
    }
   ],
   "source": [
    "5/2"
   ]
  },
  {
   "cell_type": "code",
   "execution_count": 7,
   "metadata": {
    "collapsed": false
   },
   "outputs": [
    {
     "data": {
      "text/plain": [
       "2.5"
      ]
     },
     "execution_count": 7,
     "metadata": {},
     "output_type": "execute_result"
    }
   ],
   "source": [
    "5.0/2.0"
   ]
  },
  {
   "cell_type": "code",
   "execution_count": 6,
   "metadata": {
    "collapsed": false
   },
   "outputs": [
    {
     "data": {
      "text/plain": [
       "5.569739952718675"
      ]
     },
     "execution_count": 6,
     "metadata": {},
     "output_type": "execute_result"
    }
   ],
   "source": [
    "23.56/4.23"
   ]
  },
  {
   "cell_type": "code",
   "execution_count": 7,
   "metadata": {
    "collapsed": false
   },
   "outputs": [
    {
     "data": {
      "text/plain": [
       "1.25"
      ]
     },
     "execution_count": 7,
     "metadata": {},
     "output_type": "execute_result"
    }
   ],
   "source": [
    "2.5/2"
   ]
  },
  {
   "cell_type": "markdown",
   "metadata": {},
   "source": [
    "a // b\tFloor division\tQuotient of a and b, removing fractional parts, what is left"
   ]
  },
  {
   "cell_type": "code",
   "execution_count": 8,
   "metadata": {
    "collapsed": false
   },
   "outputs": [
    {
     "data": {
      "text/plain": [
       "2.0"
      ]
     },
     "execution_count": 8,
     "metadata": {},
     "output_type": "execute_result"
    }
   ],
   "source": [
    "5.0//2.0"
   ]
  },
  {
   "cell_type": "code",
   "execution_count": 16,
   "metadata": {
    "collapsed": false,
    "nbpresent": {
     "id": "7b32113d-7ac2-4f46-9c12-ffa30ccb1a68"
    }
   },
   "outputs": [
    {
     "data": {
      "text/plain": [
       "0.2"
      ]
     },
     "execution_count": 16,
     "metadata": {},
     "output_type": "execute_result"
    }
   ],
   "source": [
    "5.0/25"
   ]
  },
  {
   "cell_type": "code",
   "execution_count": 17,
   "metadata": {
    "collapsed": false,
    "nbpresent": {
     "id": "5dba0bcb-f28d-4be7-a6be-6a1ff8d87008"
    }
   },
   "outputs": [
    {
     "data": {
      "text/plain": [
       "0"
      ]
     },
     "execution_count": 17,
     "metadata": {},
     "output_type": "execute_result"
    }
   ],
   "source": [
    "5 % 5"
   ]
  },
  {
   "cell_type": "code",
   "execution_count": 8,
   "metadata": {
    "collapsed": false
   },
   "outputs": [
    {
     "data": {
      "text/plain": [
       "1"
      ]
     },
     "execution_count": 8,
     "metadata": {},
     "output_type": "execute_result"
    }
   ],
   "source": [
    "7 % 2"
   ]
  },
  {
   "cell_type": "markdown",
   "metadata": {},
   "source": [
    "a % b\tModulus\tInteger remainder after division of a by b"
   ]
  },
  {
   "cell_type": "code",
   "execution_count": 18,
   "metadata": {
    "collapsed": false,
    "nbpresent": {
     "id": "89fd7c98-78e3-4492-bcc0-4bcbb8d3cb64"
    }
   },
   "outputs": [
    {
     "data": {
      "text/plain": [
       "1"
      ]
     },
     "execution_count": 18,
     "metadata": {},
     "output_type": "execute_result"
    }
   ],
   "source": [
    "5 % 2"
   ]
  },
  {
   "cell_type": "code",
   "execution_count": 19,
   "metadata": {
    "collapsed": false,
    "nbpresent": {
     "id": "513d93b3-2dc4-4904-a064-983f53af5b53"
    }
   },
   "outputs": [
    {
     "data": {
      "text/plain": [
       "2.5"
      ]
     },
     "execution_count": 19,
     "metadata": {},
     "output_type": "execute_result"
    }
   ],
   "source": [
    "5 / 2.0"
   ]
  },
  {
   "cell_type": "code",
   "execution_count": 20,
   "metadata": {
    "collapsed": false,
    "nbpresent": {
     "id": "89ac0ea6-0f89-4d96-9e1e-236e70de394f"
    }
   },
   "outputs": [
    {
     "data": {
      "text/plain": [
       "False"
      ]
     },
     "execution_count": 20,
     "metadata": {},
     "output_type": "execute_result"
    }
   ],
   "source": [
    "5 > 6"
   ]
  },
  {
   "cell_type": "code",
   "execution_count": 10,
   "metadata": {
    "collapsed": false
   },
   "outputs": [
    {
     "data": {
      "text/plain": [
       "True"
      ]
     },
     "execution_count": 10,
     "metadata": {},
     "output_type": "execute_result"
    }
   ],
   "source": [
    "1 >= 1"
   ]
  },
  {
   "cell_type": "code",
   "execution_count": 21,
   "metadata": {
    "collapsed": false,
    "nbpresent": {
     "id": "15a62b9e-fcf0-47e3-9cdd-54fc28e17155"
    }
   },
   "outputs": [
    {
     "data": {
      "text/plain": [
       "True"
      ]
     },
     "execution_count": 21,
     "metadata": {},
     "output_type": "execute_result"
    }
   ],
   "source": [
    "5 > 1"
   ]
  },
  {
   "cell_type": "code",
   "execution_count": 11,
   "metadata": {
    "collapsed": false
   },
   "outputs": [
    {
     "data": {
      "text/plain": [
       "False"
      ]
     },
     "execution_count": 11,
     "metadata": {},
     "output_type": "execute_result"
    }
   ],
   "source": [
    "5 <= 1"
   ]
  },
  {
   "cell_type": "code",
   "execution_count": 22,
   "metadata": {
    "collapsed": false,
    "nbpresent": {
     "id": "6ae29814-7b37-4b7b-9a18-5a2f5f1fa432"
    }
   },
   "outputs": [
    {
     "data": {
      "text/plain": [
       "True"
      ]
     },
     "execution_count": 22,
     "metadata": {},
     "output_type": "execute_result"
    }
   ],
   "source": [
    "5 >= 4"
   ]
  },
  {
   "cell_type": "code",
   "execution_count": 23,
   "metadata": {
    "collapsed": false,
    "nbpresent": {
     "id": "782796a4-feef-43bd-a43c-085203c2306e"
    }
   },
   "outputs": [
    {
     "data": {
      "text/plain": [
       "False"
      ]
     },
     "execution_count": 23,
     "metadata": {},
     "output_type": "execute_result"
    }
   ],
   "source": [
    "5 >= 9"
   ]
  },
  {
   "cell_type": "code",
   "execution_count": 24,
   "metadata": {
    "collapsed": false,
    "nbpresent": {
     "id": "78dc3119-e949-4eda-9c59-d4342cd0ebb2"
    }
   },
   "outputs": [
    {
     "data": {
      "text/plain": [
       "True"
      ]
     },
     "execution_count": 24,
     "metadata": {},
     "output_type": "execute_result"
    }
   ],
   "source": [
    "5 != 1"
   ]
  },
  {
   "cell_type": "code",
   "execution_count": 25,
   "metadata": {
    "collapsed": false,
    "nbpresent": {
     "id": "7603dbea-b134-4d25-82c0-8f76be9851e9"
    }
   },
   "outputs": [
    {
     "data": {
      "text/plain": [
       "False"
      ]
     },
     "execution_count": 25,
     "metadata": {},
     "output_type": "execute_result"
    }
   ],
   "source": [
    "5 != 5"
   ]
  },
  {
   "cell_type": "code",
   "execution_count": 53,
   "metadata": {
    "collapsed": false,
    "nbpresent": {
     "id": "29edde3d-c360-44e6-bb94-b6270879a824"
    }
   },
   "outputs": [
    {
     "data": {
      "text/plain": [
       "False"
      ]
     },
     "execution_count": 53,
     "metadata": {},
     "output_type": "execute_result"
    }
   ],
   "source": [
    "False and True"
   ]
  },
  {
   "cell_type": "code",
   "execution_count": 56,
   "metadata": {
    "collapsed": false,
    "nbpresent": {
     "id": "33b8bcc1-2a55-488b-8a2f-fbda77177a1d"
    }
   },
   "outputs": [
    {
     "data": {
      "text/plain": [
       "False"
      ]
     },
     "execution_count": 56,
     "metadata": {},
     "output_type": "execute_result"
    }
   ],
   "source": [
    "False & True"
   ]
  },
  {
   "cell_type": "code",
   "execution_count": 57,
   "metadata": {
    "collapsed": false,
    "nbpresent": {
     "id": "f48107a6-59c4-4cf3-920e-6ce08ce156bc"
    }
   },
   "outputs": [
    {
     "data": {
      "text/plain": [
       "True"
      ]
     },
     "execution_count": 57,
     "metadata": {},
     "output_type": "execute_result"
    }
   ],
   "source": [
    "True or False"
   ]
  },
  {
   "cell_type": "code",
   "execution_count": 58,
   "metadata": {
    "collapsed": false,
    "nbpresent": {
     "id": "c1cb3d3c-c968-4d84-98d1-44d65b4882c3"
    }
   },
   "outputs": [
    {
     "data": {
      "text/plain": [
       "True"
      ]
     },
     "execution_count": 58,
     "metadata": {},
     "output_type": "execute_result"
    }
   ],
   "source": [
    "True | False"
   ]
  },
  {
   "cell_type": "code",
   "execution_count": 59,
   "metadata": {
    "collapsed": false,
    "nbpresent": {
     "id": "b9ab3de4-d4f5-485f-a0dd-e135e12cd2c9"
    }
   },
   "outputs": [
    {
     "data": {
      "text/plain": [
       "True"
      ]
     },
     "execution_count": 59,
     "metadata": {},
     "output_type": "execute_result"
    }
   ],
   "source": [
    "False ^ True"
   ]
  },
  {
   "cell_type": "code",
   "execution_count": 60,
   "metadata": {
    "collapsed": false,
    "nbpresent": {
     "id": "4a862a5d-9f19-4b47-b617-4f748a083bac"
    }
   },
   "outputs": [
    {
     "data": {
      "text/plain": [
       "False"
      ]
     },
     "execution_count": 60,
     "metadata": {},
     "output_type": "execute_result"
    }
   ],
   "source": [
    "False ^ False"
   ]
  },
  {
   "cell_type": "code",
   "execution_count": 61,
   "metadata": {
    "collapsed": false,
    "nbpresent": {
     "id": "dd35aae9-46e0-4d10-8e2e-cf64df1f5154"
    }
   },
   "outputs": [
    {
     "data": {
      "text/plain": [
       "False"
      ]
     },
     "execution_count": 61,
     "metadata": {},
     "output_type": "execute_result"
    }
   ],
   "source": [
    "not True"
   ]
  },
  {
   "cell_type": "markdown",
   "metadata": {
    "nbpresent": {
     "id": "d81c0891-18a9-4e93-97ee-41ace11d3960"
    }
   },
   "source": [
    "\n",
    "# More Math Operations"
   ]
  },
  {
   "cell_type": "code",
   "execution_count": 78,
   "metadata": {
    "collapsed": false,
    "nbpresent": {
     "id": "3b315c77-8c05-44e9-b3c4-a41eee719d6d"
    }
   },
   "outputs": [
    {
     "data": {
      "text/plain": [
       "-26"
      ]
     },
     "execution_count": 78,
     "metadata": {},
     "output_type": "execute_result"
    }
   ],
   "source": [
    "1 * 4 - 5 * 6"
   ]
  },
  {
   "cell_type": "markdown",
   "metadata": {},
   "source": [
    "It goes like <br>\n",
    "$ 1 * 4 - 5 * 6 $ <br >\n",
    "$ = 4 - 30 $ <br>\n",
    "$ = -26 $"
   ]
  },
  {
   "cell_type": "markdown",
   "metadata": {},
   "source": [
    "#### Rule Says: <br>\n",
    "* First what is inside     ``()``\n",
    "* Then we look at          ``* and /``\n",
    "* Lastly we look at        ``+ and -`` "
   ]
  },
  {
   "cell_type": "code",
   "execution_count": 79,
   "metadata": {
    "collapsed": false,
    "nbpresent": {
     "id": "6ce94f20-d3de-41fd-9300-8a83f80a9037"
    }
   },
   "outputs": [
    {
     "data": {
      "text/plain": [
       "-6"
      ]
     },
     "execution_count": 79,
     "metadata": {},
     "output_type": "execute_result"
    }
   ],
   "source": [
    "1 * (4 - 5) * 6"
   ]
  },
  {
   "cell_type": "markdown",
   "metadata": {},
   "source": [
    "This Will be:<br >\n",
    "$ 1 * (4 - 5) * 6 $ <br>\n",
    "$ = 1 * (-1) * 6 $ <br>\n",
    "$ = -6 $"
   ]
  },
  {
   "cell_type": "code",
   "execution_count": 80,
   "metadata": {
    "collapsed": false,
    "nbpresent": {
     "id": "69578fb3-c0aa-4cf7-abea-943b57abe2a2"
    }
   },
   "outputs": [
    {
     "data": {
      "text/plain": [
       "-26"
      ]
     },
     "execution_count": 80,
     "metadata": {},
     "output_type": "execute_result"
    }
   ],
   "source": [
    "(1 * 4) - (5 * 6)"
   ]
  },
  {
   "cell_type": "markdown",
   "metadata": {},
   "source": [
    "$ (1 * 4) - (5 * 6) $ <br>\n",
    "$ = (4) - (30) $ <br>\n",
    "$ = -26 $"
   ]
  },
  {
   "cell_type": "code",
   "execution_count": 84,
   "metadata": {
    "collapsed": false,
    "nbpresent": {
     "id": "e9c61a64-93c1-4bdd-8938-6f82f9a332a3"
    }
   },
   "outputs": [
    {
     "data": {
      "text/plain": [
       "11.642857142857142"
      ]
     },
     "execution_count": 84,
     "metadata": {},
     "output_type": "execute_result"
    }
   ],
   "source": [
    "50.0 / 4.0 - 6.0 / 7.0"
   ]
  },
  {
   "cell_type": "code",
   "execution_count": 12,
   "metadata": {
    "collapsed": false
   },
   "outputs": [
    {
     "data": {
      "text/plain": [
       "12.5"
      ]
     },
     "execution_count": 12,
     "metadata": {},
     "output_type": "execute_result"
    }
   ],
   "source": [
    "50.0 / 4.0"
   ]
  },
  {
   "cell_type": "code",
   "execution_count": 13,
   "metadata": {
    "collapsed": false
   },
   "outputs": [
    {
     "data": {
      "text/plain": [
       "0.8571428571428571"
      ]
     },
     "execution_count": 13,
     "metadata": {},
     "output_type": "execute_result"
    }
   ],
   "source": [
    "6.0 / 7.0"
   ]
  },
  {
   "cell_type": "code",
   "execution_count": 14,
   "metadata": {
    "collapsed": false
   },
   "outputs": [
    {
     "data": {
      "text/plain": [
       "11.642857142857142"
      ]
     },
     "execution_count": 14,
     "metadata": {},
     "output_type": "execute_result"
    }
   ],
   "source": [
    "12.5 - 0.8571428571428571"
   ]
  },
  {
   "cell_type": "markdown",
   "metadata": {},
   "source": [
    "$ 50.0 / 4.0 - 6.0 / 7.0 $ <br>\n",
    "$  = 12.5 - 0.8571428571428571$ <br>\n",
    "$  = 11.642857142857142 $ <br>"
   ]
  },
  {
   "cell_type": "code",
   "execution_count": 85,
   "metadata": {
    "collapsed": false,
    "nbpresent": {
     "id": "7cdb84f0-2cc8-492e-814e-4871c60c4573"
    }
   },
   "outputs": [
    {
     "data": {
      "text/plain": [
       "-3.5714285714285716"
      ]
     },
     "execution_count": 85,
     "metadata": {},
     "output_type": "execute_result"
    }
   ],
   "source": [
    "50.0 / (4.0 - 6.0) / 7"
   ]
  },
  {
   "cell_type": "markdown",
   "metadata": {
    "nbpresent": {
     "id": "93aefc17-fd92-4d96-9c83-bd3dacb452c0"
    }
   },
   "source": [
    "# Variables"
   ]
  },
  {
   "cell_type": "markdown",
   "metadata": {},
   "source": [
    "x is the name of the variable we say ``x = 1`` which means we assigned the value of 1 to the ``x`` variable"
   ]
  },
  {
   "cell_type": "code",
   "execution_count": 15,
   "metadata": {
    "collapsed": false
   },
   "outputs": [
    {
     "data": {
      "text/plain": [
       "11"
      ]
     },
     "execution_count": 15,
     "metadata": {},
     "output_type": "execute_result"
    }
   ],
   "source": [
    "x = 2\n",
    "x**2+2*x+3"
   ]
  },
  {
   "cell_type": "code",
   "execution_count": 86,
   "metadata": {
    "collapsed": false,
    "nbpresent": {
     "id": "a4e2bd48-68d6-49b8-9fd8-36da03e23b73"
    }
   },
   "outputs": [
    {
     "data": {
      "text/plain": [
       "1"
      ]
     },
     "execution_count": 86,
     "metadata": {},
     "output_type": "execute_result"
    }
   ],
   "source": [
    "x = 1\n",
    "x"
   ]
  },
  {
   "cell_type": "markdown",
   "metadata": {},
   "source": [
    "the varibale holds it's value until we assign other value to in"
   ]
  },
  {
   "cell_type": "code",
   "execution_count": 87,
   "metadata": {
    "collapsed": false,
    "nbpresent": {
     "id": "4c4c1172-3056-44d5-94b8-7561fa030981"
    }
   },
   "outputs": [
    {
     "data": {
      "text/plain": [
       "1"
      ]
     },
     "execution_count": 87,
     "metadata": {},
     "output_type": "execute_result"
    }
   ],
   "source": [
    "x"
   ]
  },
  {
   "cell_type": "code",
   "execution_count": 11,
   "metadata": {
    "collapsed": false
   },
   "outputs": [
    {
     "data": {
      "text/plain": [
       "2"
      ]
     },
     "execution_count": 11,
     "metadata": {},
     "output_type": "execute_result"
    }
   ],
   "source": [
    "x = 2\n",
    "x"
   ]
  },
  {
   "cell_type": "code",
   "execution_count": 88,
   "metadata": {
    "collapsed": true,
    "nbpresent": {
     "id": "7b7ada56-77fc-414d-a630-895027c9c76c"
    }
   },
   "outputs": [],
   "source": [
    "y = 2"
   ]
  },
  {
   "cell_type": "code",
   "execution_count": 89,
   "metadata": {
    "collapsed": false,
    "nbpresent": {
     "id": "2cfc0f08-ee48-498e-bdbf-6f2af90e6b96"
    }
   },
   "outputs": [
    {
     "data": {
      "text/plain": [
       "2"
      ]
     },
     "execution_count": 89,
     "metadata": {},
     "output_type": "execute_result"
    }
   ],
   "source": [
    "y"
   ]
  },
  {
   "cell_type": "markdown",
   "metadata": {},
   "source": [
    "we can add two variables togather to form some kind of logic or equation."
   ]
  },
  {
   "cell_type": "markdown",
   "metadata": {},
   "source": [
    "$x - y$"
   ]
  },
  {
   "cell_type": "code",
   "execution_count": 90,
   "metadata": {
    "collapsed": false,
    "nbpresent": {
     "id": "9983c9d5-3be3-474d-a99d-5a21edcdba3f"
    }
   },
   "outputs": [
    {
     "data": {
      "text/plain": [
       "-1"
      ]
     },
     "execution_count": 90,
     "metadata": {},
     "output_type": "execute_result"
    }
   ],
   "source": [
    "x - y"
   ]
  },
  {
   "cell_type": "code",
   "execution_count": 91,
   "metadata": {
    "collapsed": false,
    "nbpresent": {
     "id": "5dd9deed-5b18-4142-a51b-ce110d55eb69"
    }
   },
   "outputs": [
    {
     "data": {
      "text/plain": [
       "3"
      ]
     },
     "execution_count": 91,
     "metadata": {},
     "output_type": "execute_result"
    }
   ],
   "source": [
    "x + y"
   ]
  },
  {
   "cell_type": "markdown",
   "metadata": {
    "nbpresent": {
     "id": "e7cb8731-6566-42c4-b3d7-038ad5eefbea"
    }
   },
   "source": [
    "## why we need variables\n",
    "a variable is a containter we use it to save a value in order to be used later on in our program"
   ]
  },
  {
   "cell_type": "markdown",
   "metadata": {},
   "source": [
    "$x^2 + 2 \\cdot x + 1$"
   ]
  },
  {
   "cell_type": "code",
   "execution_count": 92,
   "metadata": {
    "collapsed": false,
    "nbpresent": {
     "id": "c057d7ab-89e2-4458-8220-ae23676ed63e"
    }
   },
   "outputs": [
    {
     "data": {
      "text/plain": [
       "49"
      ]
     },
     "execution_count": 92,
     "metadata": {},
     "output_type": "execute_result"
    }
   ],
   "source": [
    "x = 6\n",
    "x**2+2*x+1"
   ]
  },
  {
   "cell_type": "markdown",
   "metadata": {},
   "source": [
    "$x^4 - 6 \\cdot x + 49$"
   ]
  },
  {
   "cell_type": "code",
   "execution_count": 93,
   "metadata": {
    "collapsed": false,
    "nbpresent": {
     "id": "5c72f779-fb1e-4a13-b520-754493b519db"
    }
   },
   "outputs": [
    {
     "data": {
      "text/plain": [
       "1309"
      ]
     },
     "execution_count": 93,
     "metadata": {},
     "output_type": "execute_result"
    }
   ],
   "source": [
    "x**4-6*x+49"
   ]
  },
  {
   "cell_type": "markdown",
   "metadata": {},
   "source": [
    "a varibale name can be of anything as you like\n",
    "<br >\n",
    "$tmato = 9$\n",
    "<br >\n",
    "$limon = 10$"
   ]
  },
  {
   "cell_type": "code",
   "execution_count": 94,
   "metadata": {
    "collapsed": true,
    "nbpresent": {
     "id": "6896ed31-ac45-4058-9c7b-e98a4e3ad82e"
    }
   },
   "outputs": [],
   "source": [
    "tomato = 9\n",
    "limon = 10"
   ]
  },
  {
   "cell_type": "markdown",
   "metadata": {},
   "source": [
    "we can add those varibales we have created\n",
    "<br >\n",
    "$\n",
    "tomato + limon = 9 + 10 = 19\n",
    "$"
   ]
  },
  {
   "cell_type": "code",
   "execution_count": 96,
   "metadata": {
    "collapsed": false,
    "nbpresent": {
     "id": "e301f76d-e5b3-4546-ae25-6a0ea20aa38d"
    }
   },
   "outputs": [
    {
     "data": {
      "text/plain": [
       "19"
      ]
     },
     "execution_count": 96,
     "metadata": {},
     "output_type": "execute_result"
    }
   ],
   "source": [
    "tomato + limon"
   ]
  },
  {
   "cell_type": "markdown",
   "metadata": {},
   "source": [
    "But we have to be careful when we name varibels <br > \n",
    "** Erros Might Occure ** <br >\n",
    "so be **careful**"
   ]
  },
  {
   "cell_type": "code",
   "execution_count": 97,
   "metadata": {
    "collapsed": false,
    "nbpresent": {
     "id": "61881efb-2d5a-479c-aa64-654f495b4200"
    }
   },
   "outputs": [
    {
     "ename": "NameError",
     "evalue": "name 'to' is not defined",
     "output_type": "error",
     "traceback": [
      "\u001b[0;31m---------------------------------------------------------------------------\u001b[0m",
      "\u001b[0;31mNameError\u001b[0m                                 Traceback (most recent call last)",
      "\u001b[0;32m<ipython-input-97-2492535347e8>\u001b[0m in \u001b[0;36m<module>\u001b[0;34m()\u001b[0m\n\u001b[0;32m----> 1\u001b[0;31m \u001b[0mto\u001b[0m\u001b[1;33m\u001b[0m\u001b[0m\n\u001b[0m",
      "\u001b[0;31mNameError\u001b[0m: name 'to' is not defined"
     ]
    }
   ],
   "source": [
    "to"
   ]
  },
  {
   "cell_type": "markdown",
   "metadata": {},
   "source": [
    "##### Errors\n",
    "when i use a variable that is not definde and not assigned to any value we get a NameError\n",
    "```Python\n",
    "---------------------------------------------------------------------------\n",
    "NameError                                 Traceback (most recent call last)\n",
    "<ipython-input-97-2492535347e8> in <module>()\n",
    "----> 1 to\n",
    "\n",
    "NameError: name 'to' is not defined\n",
    "```"
   ]
  },
  {
   "cell_type": "code",
   "execution_count": 98,
   "metadata": {
    "collapsed": false,
    "nbpresent": {
     "id": "186c2de4-2467-40a1-be0e-4cf153120fa7"
    }
   },
   "outputs": [
    {
     "ename": "NameError",
     "evalue": "name 'lion' is not defined",
     "output_type": "error",
     "traceback": [
      "\u001b[0;31m---------------------------------------------------------------------------\u001b[0m",
      "\u001b[0;31mNameError\u001b[0m                                 Traceback (most recent call last)",
      "\u001b[0;32m<ipython-input-98-8084133afa0c>\u001b[0m in \u001b[0;36m<module>\u001b[0;34m()\u001b[0m\n\u001b[0;32m----> 1\u001b[0;31m \u001b[0mlion\u001b[0m\u001b[1;33m\u001b[0m\u001b[0m\n\u001b[0m",
      "\u001b[0;31mNameError\u001b[0m: name 'lion' is not defined"
     ]
    }
   ],
   "source": [
    "lion"
   ]
  },
  {
   "cell_type": "code",
   "execution_count": 99,
   "metadata": {
    "collapsed": false,
    "nbpresent": {
     "id": "18c2770e-7b64-4e25-a9b9-b940c1e01ec9"
    }
   },
   "outputs": [
    {
     "ename": "NameError",
     "evalue": "name 'tomatoo' is not defined",
     "output_type": "error",
     "traceback": [
      "\u001b[0;31m---------------------------------------------------------------------------\u001b[0m",
      "\u001b[0;31mNameError\u001b[0m                                 Traceback (most recent call last)",
      "\u001b[0;32m<ipython-input-99-737153665f1c>\u001b[0m in \u001b[0;36m<module>\u001b[0;34m()\u001b[0m\n\u001b[0;32m----> 1\u001b[0;31m \u001b[0mtomatoo\u001b[0m\u001b[1;33m\u001b[0m\u001b[0m\n\u001b[0m",
      "\u001b[0;31mNameError\u001b[0m: name 'tomatoo' is not defined"
     ]
    }
   ],
   "source": [
    "tomatoo"
   ]
  },
  {
   "cell_type": "markdown",
   "metadata": {},
   "source": [
    "##### Error\n",
    "Python is case sensitive in variable calls, if you wrote a variable `tomato`, you need to call it as `tomato` otherwise you will get an error."
   ]
  },
  {
   "cell_type": "code",
   "execution_count": 100,
   "metadata": {
    "collapsed": false,
    "nbpresent": {
     "id": "fc6f7e21-f42f-4685-87f5-de979b6b5bf5"
    }
   },
   "outputs": [
    {
     "ename": "NameError",
     "evalue": "name 'limonn' is not defined",
     "output_type": "error",
     "traceback": [
      "\u001b[0;31m---------------------------------------------------------------------------\u001b[0m",
      "\u001b[0;31mNameError\u001b[0m                                 Traceback (most recent call last)",
      "\u001b[0;32m<ipython-input-100-d66d054138cb>\u001b[0m in \u001b[0;36m<module>\u001b[0;34m()\u001b[0m\n\u001b[0;32m----> 1\u001b[0;31m \u001b[0mlimonn\u001b[0m\u001b[1;33m\u001b[0m\u001b[0m\n\u001b[0m",
      "\u001b[0;31mNameError\u001b[0m: name 'limonn' is not defined"
     ]
    }
   ],
   "source": [
    "limonn"
   ]
  },
  {
   "cell_type": "markdown",
   "metadata": {
    "nbpresent": {
     "id": "287d7608-2fd7-4744-a280-8fac71ea2caf"
    }
   },
   "source": [
    "# Variable Naming Rules"
   ]
  },
  {
   "cell_type": "code",
   "execution_count": 101,
   "metadata": {
    "collapsed": false,
    "nbpresent": {
     "id": "9fd9cec1-b014-4be5-80e1-5a46db4965d8"
    }
   },
   "outputs": [
    {
     "data": {
      "text/plain": [
       "'Ibrahim'"
      ]
     },
     "execution_count": 101,
     "metadata": {},
     "output_type": "execute_result"
    }
   ],
   "source": [
    "var1 = \"Ibrahim\"\n",
    "var1"
   ]
  },
  {
   "cell_type": "code",
   "execution_count": 102,
   "metadata": {
    "collapsed": true,
    "nbpresent": {
     "id": "9e99507f-7181-4ce5-abdd-555ba9733d57"
    }
   },
   "outputs": [],
   "source": [
    "var2 = \"Mohammed\""
   ]
  },
  {
   "cell_type": "markdown",
   "metadata": {},
   "source": [
    "Dont Put Space When You Name A Variable It Will Cause An **ERROR**"
   ]
  },
  {
   "cell_type": "code",
   "execution_count": 103,
   "metadata": {
    "collapsed": false,
    "nbpresent": {
     "id": "c7fa26f1-ce1a-4da9-ba15-e1b4aee16767"
    }
   },
   "outputs": [
    {
     "ename": "SyntaxError",
     "evalue": "invalid syntax (<ipython-input-103-49cb98a12071>, line 1)",
     "output_type": "error",
     "traceback": [
      "\u001b[0;36m  File \u001b[0;32m\"<ipython-input-103-49cb98a12071>\"\u001b[0;36m, line \u001b[0;32m1\u001b[0m\n\u001b[0;31m    var 3 = \"Khalid\"\u001b[0m\n\u001b[0m        ^\u001b[0m\n\u001b[0;31mSyntaxError\u001b[0m\u001b[0;31m:\u001b[0m invalid syntax\n"
     ]
    }
   ],
   "source": [
    "var 3 = \"Khalid\""
   ]
  },
  {
   "cell_type": "markdown",
   "metadata": {},
   "source": [
    "Don't Put Numbers At The Biginning of a varibale Name. <br >\n",
    "Why? <br >\n",
    "It Will Cause An **ERROR**"
   ]
  },
  {
   "cell_type": "code",
   "execution_count": 104,
   "metadata": {
    "collapsed": false,
    "nbpresent": {
     "id": "ce82eb6c-99d2-4a5c-80ac-b5fa367c384d"
    },
    "scrolled": true
   },
   "outputs": [
    {
     "ename": "SyntaxError",
     "evalue": "invalid syntax (<ipython-input-104-e19f661636bc>, line 1)",
     "output_type": "error",
     "traceback": [
      "\u001b[0;36m  File \u001b[0;32m\"<ipython-input-104-e19f661636bc>\"\u001b[0;36m, line \u001b[0;32m1\u001b[0m\n\u001b[0;31m    1var = \"Ibrahim\"\u001b[0m\n\u001b[0m       ^\u001b[0m\n\u001b[0;31mSyntaxError\u001b[0m\u001b[0;31m:\u001b[0m invalid syntax\n"
     ]
    }
   ],
   "source": [
    "1var = \"Ibrahim\""
   ]
  },
  {
   "cell_type": "markdown",
   "metadata": {},
   "source": [
    "**ERROR ** hyphens are not allowed"
   ]
  },
  {
   "cell_type": "code",
   "execution_count": 50,
   "metadata": {
    "collapsed": false
   },
   "outputs": [
    {
     "ename": "NameError",
     "evalue": "name 'my' is not defined",
     "output_type": "error",
     "traceback": [
      "\u001b[0;31m---------------------------------------------------------------------------\u001b[0m",
      "\u001b[0;31mNameError\u001b[0m                                 Traceback (most recent call last)",
      "\u001b[0;32m<ipython-input-50-d3552f9031b3>\u001b[0m in \u001b[0;36m<module>\u001b[0;34m()\u001b[0m\n\u001b[0;32m----> 1\u001b[0;31m \u001b[0mmy\u001b[0m\u001b[1;33m-\u001b[0m\u001b[0mname\u001b[0m\u001b[1;33m\u001b[0m\u001b[0m\n\u001b[0m",
      "\u001b[0;31mNameError\u001b[0m: name 'my' is not defined"
     ]
    }
   ],
   "source": [
    "my-name"
   ]
  },
  {
   "cell_type": "code",
   "execution_count": 52,
   "metadata": {
    "collapsed": false
   },
   "outputs": [
    {
     "data": {
      "text/plain": [
       "\"I Can Put Number In The Middle of The Name , It's Ok\""
      ]
     },
     "execution_count": 52,
     "metadata": {},
     "output_type": "execute_result"
    }
   ],
   "source": [
    "iam4me = \"I Can Put Number In The Middle of The Name , It's Ok\"\n",
    "iam4me"
   ]
  },
  {
   "cell_type": "markdown",
   "metadata": {},
   "source": [
    "Varibale Names Can Be As Long As They Can Be, They Supposed To Be Clear To You And Others"
   ]
  },
  {
   "cell_type": "code",
   "execution_count": 105,
   "metadata": {
    "collapsed": true,
    "nbpresent": {
     "id": "f71a4882-d379-4f62-84ff-0290bfcc6542"
    }
   },
   "outputs": [],
   "source": [
    "thisIsAlongVariableName = \"this is a long value\""
   ]
  },
  {
   "cell_type": "code",
   "execution_count": 106,
   "metadata": {
    "collapsed": false,
    "nbpresent": {
     "id": "a7495f5b-467b-4b07-912f-e6487fa67e95"
    }
   },
   "outputs": [
    {
     "data": {
      "text/plain": [
       "'this is a long value'"
      ]
     },
     "execution_count": 106,
     "metadata": {},
     "output_type": "execute_result"
    }
   ],
   "source": [
    "thisIsAlongVariableName"
   ]
  },
  {
   "cell_type": "code",
   "execution_count": 107,
   "metadata": {
    "collapsed": true,
    "nbpresent": {
     "id": "cb42398c-ddb0-40c0-9ce7-8eac8f5f7cb2"
    }
   },
   "outputs": [],
   "source": [
    "this_is_a_long_vairable_name = \"This is a very long naming\""
   ]
  },
  {
   "cell_type": "code",
   "execution_count": 108,
   "metadata": {
    "collapsed": false,
    "nbpresent": {
     "id": "c5546835-a0f7-4f39-81ce-e7687fb9982d"
    }
   },
   "outputs": [
    {
     "data": {
      "text/plain": [
       "'This is a very long naming'"
      ]
     },
     "execution_count": 108,
     "metadata": {},
     "output_type": "execute_result"
    }
   ],
   "source": [
    "this_is_a_long_vairable_name"
   ]
  },
  {
   "cell_type": "markdown",
   "metadata": {
    "collapsed": true,
    "nbpresent": {
     "id": "997b321e-e08c-46e1-9cef-a72695fc1b02"
    }
   },
   "source": [
    "# Variable Multiple Assignments"
   ]
  },
  {
   "cell_type": "code",
   "execution_count": 15,
   "metadata": {
    "collapsed": true,
    "nbpresent": {
     "id": "5d00ba26-da89-49aa-b3d7-92bf59a22e0c"
    }
   },
   "outputs": [],
   "source": [
    "var1, var2, var3 = \"name1\",3,\"five\""
   ]
  },
  {
   "cell_type": "markdown",
   "metadata": {},
   "source": [
    "the results will split between variables after ther =  sign <br>\n",
    "var1 will hold \"name1\" <br>\n",
    "var2 will hold 3 <br>\n",
    "var3 will hold \"five\""
   ]
  },
  {
   "cell_type": "code",
   "execution_count": 16,
   "metadata": {
    "collapsed": false,
    "nbpresent": {
     "id": "29222439-1940-43aa-b32a-b2c71fe1900b"
    }
   },
   "outputs": [
    {
     "data": {
      "text/plain": [
       "'name1'"
      ]
     },
     "execution_count": 16,
     "metadata": {},
     "output_type": "execute_result"
    }
   ],
   "source": [
    "var1"
   ]
  },
  {
   "cell_type": "code",
   "execution_count": 17,
   "metadata": {
    "collapsed": false,
    "nbpresent": {
     "id": "6ef4eaa6-0d2a-4d53-91d9-3de92619d123"
    }
   },
   "outputs": [
    {
     "data": {
      "text/plain": [
       "3"
      ]
     },
     "execution_count": 17,
     "metadata": {},
     "output_type": "execute_result"
    }
   ],
   "source": [
    "var2"
   ]
  },
  {
   "cell_type": "code",
   "execution_count": 18,
   "metadata": {
    "collapsed": false
   },
   "outputs": [
    {
     "data": {
      "text/plain": [
       "'five'"
      ]
     },
     "execution_count": 18,
     "metadata": {},
     "output_type": "execute_result"
    }
   ],
   "source": [
    "var3"
   ]
  },
  {
   "cell_type": "code",
   "execution_count": 5,
   "metadata": {
    "collapsed": true,
    "nbpresent": {
     "id": "64ff2cac-3682-471c-b7d9-4b8edb039471"
    }
   },
   "outputs": [],
   "source": [
    "var1 = var2 = var3 = \"We Are The Same\""
   ]
  },
  {
   "cell_type": "markdown",
   "metadata": {},
   "source": [
    "I can assign variables like when i say: <br>\n",
    "> var1 equal var2 equal var3 equal \"We Are The Same\""
   ]
  },
  {
   "cell_type": "code",
   "execution_count": 6,
   "metadata": {
    "collapsed": false,
    "nbpresent": {
     "id": "40bb4e4a-3005-4fed-8017-7596d417fca7"
    }
   },
   "outputs": [
    {
     "data": {
      "text/plain": [
       "'We Are The Same'"
      ]
     },
     "execution_count": 6,
     "metadata": {},
     "output_type": "execute_result"
    }
   ],
   "source": [
    "var1"
   ]
  },
  {
   "cell_type": "code",
   "execution_count": 7,
   "metadata": {
    "collapsed": false,
    "nbpresent": {
     "id": "f1309b59-ba97-44b2-836c-fa12a945e3c7"
    }
   },
   "outputs": [
    {
     "data": {
      "text/plain": [
       "'We Are The Same'"
      ]
     },
     "execution_count": 7,
     "metadata": {},
     "output_type": "execute_result"
    }
   ],
   "source": [
    "var2"
   ]
  },
  {
   "cell_type": "code",
   "execution_count": 8,
   "metadata": {
    "collapsed": false,
    "nbpresent": {
     "id": "3e033c86-dd40-4911-a29a-aa680d2484cb"
    }
   },
   "outputs": [
    {
     "data": {
      "text/plain": [
       "'We Are The Same'"
      ]
     },
     "execution_count": 8,
     "metadata": {},
     "output_type": "execute_result"
    }
   ],
   "source": [
    "var3"
   ]
  },
  {
   "cell_type": "markdown",
   "metadata": {
    "nbpresent": {
     "id": "a0617b86-a3f5-4cad-942f-0d178e5ab9e3"
    }
   },
   "source": [
    "# Data Types"
   ]
  },
  {
   "cell_type": "code",
   "execution_count": 9,
   "metadata": {
    "collapsed": true,
    "nbpresent": {
     "id": "50fcc5e7-3b75-43e5-a4cd-b4a30cbdc783"
    }
   },
   "outputs": [],
   "source": [
    "i = 19"
   ]
  },
  {
   "cell_type": "code",
   "execution_count": 10,
   "metadata": {
    "collapsed": false,
    "nbpresent": {
     "id": "544a12a4-2e3b-42cd-a131-edaa58df342d"
    }
   },
   "outputs": [
    {
     "data": {
      "text/plain": [
       "19"
      ]
     },
     "execution_count": 10,
     "metadata": {},
     "output_type": "execute_result"
    }
   ],
   "source": [
    "i"
   ]
  },
  {
   "cell_type": "code",
   "execution_count": 11,
   "metadata": {
    "collapsed": false,
    "nbpresent": {
     "id": "29bb02bd-d2a3-4ab4-b4f3-d854ac82d1c4"
    }
   },
   "outputs": [
    {
     "data": {
      "text/plain": [
       "int"
      ]
     },
     "execution_count": 11,
     "metadata": {},
     "output_type": "execute_result"
    }
   ],
   "source": [
    "type(i)"
   ]
  },
  {
   "cell_type": "code",
   "execution_count": 12,
   "metadata": {
    "collapsed": true,
    "nbpresent": {
     "id": "4efcec09-3dad-4f7a-ad11-3bd2f8f9ada4"
    }
   },
   "outputs": [],
   "source": [
    "i = 1.6"
   ]
  },
  {
   "cell_type": "code",
   "execution_count": 13,
   "metadata": {
    "collapsed": false,
    "nbpresent": {
     "id": "9e2f7e1e-2ede-4dbc-9fb8-dbe5f5787f9c"
    }
   },
   "outputs": [
    {
     "data": {
      "text/plain": [
       "1.6"
      ]
     },
     "execution_count": 13,
     "metadata": {},
     "output_type": "execute_result"
    }
   ],
   "source": [
    "i"
   ]
  },
  {
   "cell_type": "code",
   "execution_count": 14,
   "metadata": {
    "collapsed": false,
    "nbpresent": {
     "id": "1435d012-02b4-4fce-8fc4-d86beb1d291c"
    }
   },
   "outputs": [
    {
     "data": {
      "text/plain": [
       "float"
      ]
     },
     "execution_count": 14,
     "metadata": {},
     "output_type": "execute_result"
    }
   ],
   "source": [
    "type(i)"
   ]
  },
  {
   "cell_type": "code",
   "execution_count": 15,
   "metadata": {
    "collapsed": true,
    "nbpresent": {
     "id": "68eca156-fab1-4278-a073-a45ac6c27a1c"
    }
   },
   "outputs": [],
   "source": [
    "i = \"Hema\""
   ]
  },
  {
   "cell_type": "code",
   "execution_count": 16,
   "metadata": {
    "collapsed": false,
    "nbpresent": {
     "id": "b5ec9249-d8a0-4501-8779-cb6ef709e62c"
    }
   },
   "outputs": [
    {
     "data": {
      "text/plain": [
       "'Hema'"
      ]
     },
     "execution_count": 16,
     "metadata": {},
     "output_type": "execute_result"
    }
   ],
   "source": [
    "i"
   ]
  },
  {
   "cell_type": "code",
   "execution_count": 17,
   "metadata": {
    "collapsed": false,
    "nbpresent": {
     "id": "c21b8fd3-fe5d-4953-ab77-eee5b305ca64"
    }
   },
   "outputs": [
    {
     "data": {
      "text/plain": [
       "str"
      ]
     },
     "execution_count": 17,
     "metadata": {},
     "output_type": "execute_result"
    }
   ],
   "source": [
    "type(i)"
   ]
  },
  {
   "cell_type": "code",
   "execution_count": 18,
   "metadata": {
    "collapsed": true,
    "nbpresent": {
     "id": "800c83c2-a4ec-4d4f-bfe2-b2ac6b5f97b8"
    }
   },
   "outputs": [],
   "source": [
    "i = \"This is a long String\""
   ]
  },
  {
   "cell_type": "code",
   "execution_count": 19,
   "metadata": {
    "collapsed": false,
    "nbpresent": {
     "id": "416a02f1-c397-4c60-bb4f-a3c05bdc3905"
    }
   },
   "outputs": [
    {
     "data": {
      "text/plain": [
       "str"
      ]
     },
     "execution_count": 19,
     "metadata": {},
     "output_type": "execute_result"
    }
   ],
   "source": [
    "type(i)"
   ]
  },
  {
   "cell_type": "code",
   "execution_count": 19,
   "metadata": {
    "collapsed": false
   },
   "outputs": [
    {
     "data": {
      "text/plain": [
       "(1+1j)"
      ]
     },
     "execution_count": 19,
     "metadata": {},
     "output_type": "execute_result"
    }
   ],
   "source": [
    "i = complex(1,1)\n",
    "i"
   ]
  },
  {
   "cell_type": "code",
   "execution_count": 20,
   "metadata": {
    "collapsed": false
   },
   "outputs": [
    {
     "data": {
      "text/plain": [
       "complex"
      ]
     },
     "execution_count": 20,
     "metadata": {},
     "output_type": "execute_result"
    }
   ],
   "source": [
    "type(i)"
   ]
  },
  {
   "cell_type": "code",
   "execution_count": 21,
   "metadata": {
    "collapsed": false
   },
   "outputs": [
    {
     "data": {
      "text/plain": [
       "bool"
      ]
     },
     "execution_count": 21,
     "metadata": {},
     "output_type": "execute_result"
    }
   ],
   "source": [
    "type(True)"
   ]
  },
  {
   "cell_type": "markdown",
   "metadata": {},
   "source": [
    "* String is about text\n",
    "* Integer is about numbers with no fraction part\n",
    "* Float is about fraction and floating point\n",
    "* Complex is about complex numbers and real, imaginary parts\n",
    "* Boolean is about binary True and False , 1 and 0\n",
    "<br>\n",
    "\n",
    "|A                      |B\n",
    "|:-:                    |:-:\n",
    "|Integers               |-2, -1, 0, 1, 2, 3, 4, 5\n",
    "|Floating-point numbers |-1.25, -1.0, --0.5, 0.0, 0.5, 1.0, 1.25\n",
    "|Strings                |'a', 'aa', 'aaa', 'Hello!', '11 cats'\n",
    "|Complex                | $ 1 + 1j , 2 - 2.0j , -6j $\n",
    "|Boolean                | True , False\n",
    "\n",
    "\n",
    "Note that even though the value 42 is an integer, the value 42.0 would be a ﬂoating-point number"
   ]
  },
  {
   "cell_type": "markdown",
   "metadata": {
    "nbpresent": {
     "id": "21f18d2d-9ddb-40a7-ac85-7001f46bb712"
    }
   },
   "source": [
    "### Why We Study data types:"
   ]
  },
  {
   "cell_type": "markdown",
   "metadata": {},
   "source": [
    "In order to avoid such **ERRORS**"
   ]
  },
  {
   "cell_type": "code",
   "execution_count": 2,
   "metadata": {
    "collapsed": false,
    "nbpresent": {
     "id": "50b1f406-b635-496a-a327-0363bc6f09b1"
    }
   },
   "outputs": [
    {
     "ename": "TypeError",
     "evalue": "cannot concatenate 'str' and 'int' objects",
     "output_type": "error",
     "traceback": [
      "\u001b[0;31m---------------------------------------------------------------------------\u001b[0m",
      "\u001b[0;31mTypeError\u001b[0m                                 Traceback (most recent call last)",
      "\u001b[0;32m<ipython-input-2-40d9580e7009>\u001b[0m in \u001b[0;36m<module>\u001b[0;34m()\u001b[0m\n\u001b[0;32m----> 1\u001b[0;31m \u001b[1;34m'3'\u001b[0m \u001b[1;33m+\u001b[0m \u001b[1;36m3\u001b[0m\u001b[1;33m\u001b[0m\u001b[0m\n\u001b[0m",
      "\u001b[0;31mTypeError\u001b[0m: cannot concatenate 'str' and 'int' objects"
     ]
    }
   ],
   "source": [
    "'3' + 3"
   ]
  },
  {
   "cell_type": "code",
   "execution_count": 3,
   "metadata": {
    "collapsed": false,
    "nbpresent": {
     "id": "4a0bdf8e-abca-468f-a5a8-cd8bd7daf99d"
    }
   },
   "outputs": [
    {
     "data": {
      "text/plain": [
       "6"
      ]
     },
     "execution_count": 3,
     "metadata": {},
     "output_type": "execute_result"
    }
   ],
   "source": [
    "3 + 3"
   ]
  },
  {
   "cell_type": "code",
   "execution_count": 4,
   "metadata": {
    "collapsed": false,
    "nbpresent": {
     "id": "87cd2ec1-c84b-499f-aa5a-17648b77a4c3"
    }
   },
   "outputs": [
    {
     "data": {
      "text/plain": [
       "'33'"
      ]
     },
     "execution_count": 4,
     "metadata": {},
     "output_type": "execute_result"
    }
   ],
   "source": [
    "'3'+'3'"
   ]
  },
  {
   "cell_type": "markdown",
   "metadata": {},
   "source": [
    "### Concatination\n",
    "is when you bring a string and add it to other string"
   ]
  },
  {
   "cell_type": "code",
   "execution_count": 21,
   "metadata": {
    "collapsed": true,
    "nbpresent": {
     "id": "c3c2347c-4eee-4129-945b-440b243c73c1"
    }
   },
   "outputs": [],
   "source": [
    "sun_name = \"Ibrahim\"\n",
    "father_name = \"Algadi\""
   ]
  },
  {
   "cell_type": "code",
   "execution_count": 23,
   "metadata": {
    "collapsed": false,
    "nbpresent": {
     "id": "8bb76029-5f12-46d5-b560-142c1dbbc8b4"
    }
   },
   "outputs": [
    {
     "data": {
      "text/plain": [
       "'IbrahimAlgadi'"
      ]
     },
     "execution_count": 23,
     "metadata": {},
     "output_type": "execute_result"
    }
   ],
   "source": [
    "sun_name + father_name"
   ]
  },
  {
   "cell_type": "code",
   "execution_count": 24,
   "metadata": {
    "collapsed": false,
    "nbpresent": {
     "id": "b97e239c-735a-41df-a593-594126e0ed32"
    }
   },
   "outputs": [
    {
     "data": {
      "text/plain": [
       "'Ibrahim Algadi'"
      ]
     },
     "execution_count": 24,
     "metadata": {},
     "output_type": "execute_result"
    }
   ],
   "source": [
    "sun_name + \" \" + father_name"
   ]
  },
  {
   "cell_type": "code",
   "execution_count": 25,
   "metadata": {
    "collapsed": true,
    "nbpresent": {
     "id": "c75c6b0b-dad4-4b5e-a161-f01aaa3cd73a"
    }
   },
   "outputs": [],
   "source": [
    "one, two, three = \"one\", \"two\", \"three\""
   ]
  },
  {
   "cell_type": "code",
   "execution_count": 26,
   "metadata": {
    "collapsed": false,
    "nbpresent": {
     "id": "b3992359-abf3-4a56-a926-f39efeea9e96"
    }
   },
   "outputs": [
    {
     "data": {
      "text/plain": [
       "'one two three'"
      ]
     },
     "execution_count": 26,
     "metadata": {},
     "output_type": "execute_result"
    }
   ],
   "source": [
    "one + \" \" + two + \" \" + three"
   ]
  },
  {
   "cell_type": "markdown",
   "metadata": {
    "collapsed": true,
    "nbpresent": {
     "id": "1296718e-9846-49d7-a46e-a4ccab77fea7"
    }
   },
   "source": [
    "### Good Concatination"
   ]
  },
  {
   "cell_type": "code",
   "execution_count": 28,
   "metadata": {
    "collapsed": false,
    "nbpresent": {
     "id": "41539499-4486-4e64-b6c8-ea8aff68d83c"
    }
   },
   "outputs": [
    {
     "data": {
      "text/plain": [
       "'Ibrahim Algadi'"
      ]
     },
     "execution_count": 28,
     "metadata": {},
     "output_type": "execute_result"
    }
   ],
   "source": [
    "name = sun_name + \" \" + father_name\n",
    "name"
   ]
  },
  {
   "cell_type": "markdown",
   "metadata": {},
   "source": [
    "#### Replication Operator"
   ]
  },
  {
   "cell_type": "code",
   "execution_count": 47,
   "metadata": {
    "collapsed": false
   },
   "outputs": [
    {
     "data": {
      "text/plain": [
       "'IbrahimIbrahimIbrahimIbrahimIbrahim'"
      ]
     },
     "execution_count": 47,
     "metadata": {},
     "output_type": "execute_result"
    }
   ],
   "source": [
    "'Ibrahim' * 5"
   ]
  },
  {
   "cell_type": "code",
   "execution_count": 48,
   "metadata": {
    "collapsed": false
   },
   "outputs": [
    {
     "data": {
      "text/plain": [
       "'Ibrahim Ibrahim Ibrahim Ibrahim Ibrahim '"
      ]
     },
     "execution_count": 48,
     "metadata": {},
     "output_type": "execute_result"
    }
   ],
   "source": [
    "'Ibrahim ' * 5"
   ]
  },
  {
   "cell_type": "markdown",
   "metadata": {},
   "source": [
    "**ERROR**  we can't multiply 2 strings togather"
   ]
  },
  {
   "cell_type": "code",
   "execution_count": 49,
   "metadata": {
    "collapsed": false
   },
   "outputs": [
    {
     "ename": "TypeError",
     "evalue": "can't multiply sequence by non-int of type 'str'",
     "output_type": "error",
     "traceback": [
      "\u001b[0;31m---------------------------------------------------------------------------\u001b[0m",
      "\u001b[0;31mTypeError\u001b[0m                                 Traceback (most recent call last)",
      "\u001b[0;32m<ipython-input-49-235cbc43bf4a>\u001b[0m in \u001b[0;36m<module>\u001b[0;34m()\u001b[0m\n\u001b[0;32m----> 1\u001b[0;31m \u001b[1;34m'Ibrahim'\u001b[0m \u001b[1;33m*\u001b[0m \u001b[1;34m'Algadi'\u001b[0m\u001b[1;33m\u001b[0m\u001b[0m\n\u001b[0m",
      "\u001b[0;31mTypeError\u001b[0m: can't multiply sequence by non-int of type 'str'"
     ]
    }
   ],
   "source": [
    "'Ibrahim' * 'Algadi'"
   ]
  },
  {
   "cell_type": "markdown",
   "metadata": {
    "nbpresent": {
     "id": "e9e2269f-2dd5-451a-ba5c-233ace64245b"
    }
   },
   "source": [
    "# Help\n",
    "### [Stack Overlow] (http://stackoverﬂow.com/) "
   ]
  },
  {
   "cell_type": "markdown",
   "metadata": {
    "collapsed": true,
    "nbpresent": {
     "id": "dea0c6de-d14a-46f9-a54a-e7c388c1002f"
    }
   },
   "source": [
    "# Home Work\n",
    "### download ** QPython **  and have python up and running in your smart phone"
   ]
  },
  {
   "cell_type": "markdown",
   "metadata": {
    "collapsed": true
   },
   "source": [
    "<center>\n",
    "    <h1 style=\"font-size:50px\">\n",
    "        You Already Know What <i style=\"color:red\">To Do</i>! <br >\n",
    "        You Already Know How <i style=\"color:red\">To Do It</i>! <br >\n",
    "        So, What <i style=\"color:red\">Stopping You</i>? <br >\n",
    "        <br >\n",
    "        !انت تعلم ماذا يجب ان تفعل\n",
    "        <br>\n",
    "        !انت تعلم كيف تقوم بفعله\n",
    "        <br>\n",
    "        اذا, ماذا يوقفك؟\n",
    "    </h1>\n",
    "</center>"
   ]
  },
  {
   "cell_type": "code",
   "execution_count": null,
   "metadata": {
    "collapsed": true
   },
   "outputs": [],
   "source": []
  }
 ],
 "metadata": {
  "anaconda-cloud": {},
  "kernelspec": {
   "display_name": "Python [conda root]",
   "language": "python",
   "name": "conda-root-py"
  },
  "language_info": {
   "codemirror_mode": {
    "name": "ipython",
    "version": 2
   },
   "file_extension": ".py",
   "mimetype": "text/x-python",
   "name": "python",
   "nbconvert_exporter": "python",
   "pygments_lexer": "ipython2",
   "version": "2.7.12"
  },
  "nbpresent": {
   "slides": {
    "000116b7-7531-49b9-a0a0-49c266d4a263": {
     "id": "000116b7-7531-49b9-a0a0-49c266d4a263",
     "prev": "419c44c0-76ce-46f6-9901-6e329c9f619b",
     "regions": {
      "edd505ad-8b58-4f0a-8eb8-542cb12787c2": {
       "attrs": {
        "height": 0.8,
        "width": 0.8,
        "x": 0.1,
        "y": 0.1
       },
       "content": {
        "cell": "89ac0ea6-0f89-4d96-9e1e-236e70de394f",
        "part": "whole"
       },
       "id": "edd505ad-8b58-4f0a-8eb8-542cb12787c2"
      }
     }
    },
    "067719f1-51b0-4369-8880-2147b229668e": {
     "id": "067719f1-51b0-4369-8880-2147b229668e",
     "prev": "725c3636-2ab2-41d2-ab09-d706c7e9f2cc",
     "regions": {
      "2371e13c-6664-43f5-b164-066fe644641e": {
       "attrs": {
        "height": 0.8,
        "width": 0.8,
        "x": 0.1,
        "y": 0.1
       },
       "content": {
        "cell": "6ae29814-7b37-4b7b-9a18-5a2f5f1fa432",
        "part": "whole"
       },
       "id": "2371e13c-6664-43f5-b164-066fe644641e"
      }
     }
    },
    "09e4e2dd-a516-4aa1-b4f1-20fd4632a6c4": {
     "id": "09e4e2dd-a516-4aa1-b4f1-20fd4632a6c4",
     "prev": null,
     "regions": {
      "203e3626-f5f6-4a4b-9a41-b731776710a8": {
       "attrs": {
        "height": 0.8,
        "width": 0.8,
        "x": 0.1,
        "y": 0.1
       },
       "content": {
        "cell": "f107cce6-2437-417d-992a-7c4f6bbaf51a",
        "part": "whole"
       },
       "id": "203e3626-f5f6-4a4b-9a41-b731776710a8"
      }
     },
     "theme": null
    },
    "0aef87b6-2a22-4ee5-80e1-48ac2fbe1b68": {
     "id": "0aef87b6-2a22-4ee5-80e1-48ac2fbe1b68",
     "prev": "86b3c3f5-80db-401a-8163-6c637961c52e",
     "regions": {
      "7d828dcb-4d60-4b9f-901d-cc45369b6140": {
       "attrs": {
        "height": 0.8,
        "width": 0.8,
        "x": 0.1,
        "y": 0.1
       },
       "content": {
        "cell": "6896ed31-ac45-4058-9c7b-e98a4e3ad82e",
        "part": "whole"
       },
       "id": "7d828dcb-4d60-4b9f-901d-cc45369b6140"
      }
     }
    },
    "104a623f-bea6-40af-aa60-8d6e3c8d0b9c": {
     "id": "104a623f-bea6-40af-aa60-8d6e3c8d0b9c",
     "prev": "58f0492e-12d7-4cc2-b661-ff484305718e",
     "regions": {
      "5ece2e6f-f3ce-486d-b886-d9bee4f3b0db": {
       "attrs": {
        "height": 0.8,
        "width": 0.8,
        "x": 0.1,
        "y": 0.1
       },
       "content": {
        "cell": "7b32113d-7ac2-4f46-9c12-ffa30ccb1a68",
        "part": "whole"
       },
       "id": "5ece2e6f-f3ce-486d-b886-d9bee4f3b0db"
      }
     }
    },
    "12f15957-3552-45cc-9dba-7b8482b080f0": {
     "id": "12f15957-3552-45cc-9dba-7b8482b080f0",
     "prev": "4df84d08-17b2-478e-be37-3284bf2752ae",
     "regions": {
      "7b2d413c-fa0b-4192-a5b2-046bd5a8eb2c": {
       "attrs": {
        "height": 0.8,
        "width": 0.8,
        "x": 0.1,
        "y": 0.1
       },
       "content": {
        "cell": "c1cb3d3c-c968-4d84-98d1-44d65b4882c3",
        "part": "whole"
       },
       "id": "7b2d413c-fa0b-4192-a5b2-046bd5a8eb2c"
      }
     }
    },
    "163c509f-9cf9-4080-a1f4-c456f029b909": {
     "id": "163c509f-9cf9-4080-a1f4-c456f029b909",
     "prev": "67fc19cb-aa66-428e-8b5d-bda2a4fc22cf",
     "regions": {
      "199730c1-0239-4b9c-bcad-d3e3cad45a3c": {
       "attrs": {
        "height": 0.8,
        "width": 0.8,
        "x": 0.1,
        "y": 0.1
       },
       "content": {
        "cell": "4a0bdf8e-abca-468f-a5a8-cd8bd7daf99d",
        "part": "whole"
       },
       "id": "199730c1-0239-4b9c-bcad-d3e3cad45a3c"
      }
     }
    },
    "168ffaa8-9205-47d9-96b3-a9026c279e01": {
     "id": "168ffaa8-9205-47d9-96b3-a9026c279e01",
     "prev": "5c12a04c-2009-4165-b1e4-0881af964703",
     "regions": {
      "f7b9e682-68d0-4f75-a4cf-00e566bca363": {
       "attrs": {
        "height": 0.8,
        "width": 0.8,
        "x": 0.1,
        "y": 0.1
       },
       "content": {
        "cell": "544a12a4-2e3b-42cd-a131-edaa58df342d",
        "part": "whole"
       },
       "id": "f7b9e682-68d0-4f75-a4cf-00e566bca363"
      }
     }
    },
    "18c6465c-293c-4569-8341-5c061662a661": {
     "id": "18c6465c-293c-4569-8341-5c061662a661",
     "prev": "bf2ba2d2-95ed-4010-84b1-0eca62385802",
     "regions": {
      "a7bc3938-773e-4ec1-88ae-60b5b254d544": {
       "attrs": {
        "height": 0.8,
        "width": 0.8,
        "x": 0.1,
        "y": 0.1
       },
       "content": {
        "cell": "41539499-4486-4e64-b6c8-ea8aff68d83c",
        "part": "whole"
       },
       "id": "a7bc3938-773e-4ec1-88ae-60b5b254d544"
      }
     }
    },
    "1b3d5584-feb6-4c35-88a3-032c9d3d222b": {
     "id": "1b3d5584-feb6-4c35-88a3-032c9d3d222b",
     "prev": "163c509f-9cf9-4080-a1f4-c456f029b909",
     "regions": {
      "8eec9a44-83cd-4c51-9291-db81e0873721": {
       "attrs": {
        "height": 0.8,
        "width": 0.8,
        "x": 0.1,
        "y": 0.1
       },
       "content": {
        "cell": "87cd2ec1-c84b-499f-aa5a-17648b77a4c3",
        "part": "whole"
       },
       "id": "8eec9a44-83cd-4c51-9291-db81e0873721"
      }
     }
    },
    "1ecded6f-560a-43c8-aea3-51c69660d7a0": {
     "id": "1ecded6f-560a-43c8-aea3-51c69660d7a0",
     "prev": "c031a508-a189-4d95-92c0-e87e5d519a89",
     "regions": {
      "4b072db4-2c19-4f9f-b5ec-02ef50fae0d9": {
       "attrs": {
        "height": 0.8,
        "width": 0.8,
        "x": 0.1,
        "y": 0.1
       },
       "content": {
        "cell": "6ce94f20-d3de-41fd-9300-8a83f80a9037",
        "part": "whole"
       },
       "id": "4b072db4-2c19-4f9f-b5ec-02ef50fae0d9"
      }
     }
    },
    "1f3965a7-4df3-414e-89a5-6166dcfdfda5": {
     "id": "1f3965a7-4df3-414e-89a5-6166dcfdfda5",
     "prev": "5b877858-cdaf-42f8-884f-5ee9c05f22a5",
     "regions": {
      "c4f361f8-279d-4e28-8b14-fadac93eb3b4": {
       "attrs": {
        "height": 0.8,
        "width": 0.8,
        "x": 0.1,
        "y": 0.1
       },
       "content": {
        "cell": "9e2f7e1e-2ede-4dbc-9fb8-dbe5f5787f9c",
        "part": "whole"
       },
       "id": "c4f361f8-279d-4e28-8b14-fadac93eb3b4"
      }
     }
    },
    "20da3ac2-a632-4916-bae9-b60333bba33f": {
     "id": "20da3ac2-a632-4916-bae9-b60333bba33f",
     "prev": "9a68e8d9-e724-464e-8b07-2cdfb8a5d907",
     "regions": {
      "340ae093-f559-49e7-82dd-3bbba6ac7fd1": {
       "attrs": {
        "height": 0.8,
        "width": 0.8,
        "x": 0.1,
        "y": 0.1
       },
       "content": {
        "cell": "c7fa26f1-ce1a-4da9-ba15-e1b4aee16767",
        "part": "whole"
       },
       "id": "340ae093-f559-49e7-82dd-3bbba6ac7fd1"
      }
     }
    },
    "2279cf25-aafc-433c-9fe4-a9015b998672": {
     "id": "2279cf25-aafc-433c-9fe4-a9015b998672",
     "prev": "18c6465c-293c-4569-8341-5c061662a661",
     "regions": {
      "73b93105-0ab7-44bb-bf2c-f48baa8d6ef4": {
       "attrs": {
        "height": 0.8,
        "width": 0.8,
        "x": 0.1,
        "y": 0.1
       },
       "content": {
        "cell": "e9e2269f-2dd5-451a-ba5c-233ace64245b",
        "part": "whole"
       },
       "id": "73b93105-0ab7-44bb-bf2c-f48baa8d6ef4"
      }
     }
    },
    "26106e9c-1033-4e43-9d33-e3a9157a3cd4": {
     "id": "26106e9c-1033-4e43-9d33-e3a9157a3cd4",
     "prev": "a91cfde2-68e8-48e8-8b8b-f9c67689cb1a",
     "regions": {
      "9da7e660-75f2-4bc0-af0c-791518569f07": {
       "attrs": {
        "height": 0.8,
        "width": 0.8,
        "x": 0.1,
        "y": 0.1
       },
       "content": {
        "cell": "a0617b86-a3f5-4cad-942f-0d178e5ab9e3",
        "part": "whole"
       },
       "id": "9da7e660-75f2-4bc0-af0c-791518569f07"
      }
     }
    },
    "27ab1afb-1b1e-4a27-999f-71e34a23686f": {
     "id": "27ab1afb-1b1e-4a27-999f-71e34a23686f",
     "prev": "496bc526-75c0-43e8-a957-1448d6ba3600",
     "regions": {
      "476d8268-a3a1-4651-a6e4-3c42978f92db": {
       "attrs": {
        "height": 0.8,
        "width": 0.8,
        "x": 0.1,
        "y": 0.1
       },
       "content": {
        "cell": "7603dbea-b134-4d25-82c0-8f76be9851e9",
        "part": "whole"
       },
       "id": "476d8268-a3a1-4651-a6e4-3c42978f92db"
      }
     }
    },
    "2c3d412b-553d-4412-aa0b-bda01358bca6": {
     "id": "2c3d412b-553d-4412-aa0b-bda01358bca6",
     "prev": "acb23367-d1fc-4fcf-a9f9-e3ccccc3e73d",
     "regions": {
      "24007d98-73bb-4a22-9e7e-bf527c9319a9": {
       "attrs": {
        "height": 0.8,
        "width": 0.8,
        "x": 0.1,
        "y": 0.1
       },
       "content": {
        "cell": "4a862a5d-9f19-4b47-b617-4f748a083bac",
        "part": "whole"
       },
       "id": "24007d98-73bb-4a22-9e7e-bf527c9319a9"
      }
     }
    },
    "2c753659-6b33-4f56-8d70-787a929fea47": {
     "id": "2c753659-6b33-4f56-8d70-787a929fea47",
     "prev": "7d63ba8b-4248-438f-a982-e1537a48c247",
     "regions": {
      "b2a279e5-ccd6-4e8c-a739-54ef8a2a5eb4": {
       "attrs": {
        "height": 0.8,
        "width": 0.8,
        "x": 0.1,
        "y": 0.1
       },
       "content": {
        "cell": "b97e239c-735a-41df-a593-594126e0ed32",
        "part": "whole"
       },
       "id": "b2a279e5-ccd6-4e8c-a739-54ef8a2a5eb4"
      }
     }
    },
    "398de88a-ce67-42f0-8c76-3d640e812d9a": {
     "id": "398de88a-ce67-42f0-8c76-3d640e812d9a",
     "prev": "45be053d-c5ef-4764-b268-1969aefc0827",
     "regions": {
      "91083abb-36f8-4c7a-9a7c-14a628bef02f": {
       "attrs": {
        "height": 0.8,
        "width": 0.8,
        "x": 0.1,
        "y": 0.1
       },
       "content": {
        "cell": "4b97ec67-bc29-4e84-ba32-269871467e47",
        "part": "whole"
       },
       "id": "91083abb-36f8-4c7a-9a7c-14a628bef02f"
      }
     }
    },
    "39a0b0b8-e8d2-453a-b072-89328b97216f": {
     "id": "39a0b0b8-e8d2-453a-b072-89328b97216f",
     "prev": "1f3965a7-4df3-414e-89a5-6166dcfdfda5",
     "regions": {
      "6d1f57ff-98d5-426f-b3dc-7d5ce008dcfa": {
       "attrs": {
        "height": 0.8,
        "width": 0.8,
        "x": 0.1,
        "y": 0.1
       },
       "content": {
        "cell": "1435d012-02b4-4fce-8fc4-d86beb1d291c",
        "part": "whole"
       },
       "id": "6d1f57ff-98d5-426f-b3dc-7d5ce008dcfa"
      }
     }
    },
    "3ad53501-2796-4d8a-a66e-9ecffdfe4a63": {
     "id": "3ad53501-2796-4d8a-a66e-9ecffdfe4a63",
     "prev": "b113dde3-c952-4520-b3c9-2061616bb4e2",
     "regions": {
      "eb6ba2a4-e3e5-4f54-9623-aada2985ae9e": {
       "attrs": {
        "height": 0.8,
        "width": 0.8,
        "x": 0.1,
        "y": 0.1
       },
       "content": {
        "cell": "a7f7f5be-f119-49e0-9eba-dbe396344993",
        "part": "whole"
       },
       "id": "eb6ba2a4-e3e5-4f54-9623-aada2985ae9e"
      }
     }
    },
    "3b552132-4592-420d-a8e4-b83b7636731c": {
     "id": "3b552132-4592-420d-a8e4-b83b7636731c",
     "prev": "b98f9bce-1372-4b6c-8aee-90e21c37f01b",
     "regions": {
      "493f8e0f-4da4-46dc-9c62-007cc725d190": {
       "attrs": {
        "height": 0.8,
        "width": 0.8,
        "x": 0.1,
        "y": 0.1
       },
       "content": {
        "cell": "416a02f1-c397-4c60-bb4f-a3c05bdc3905",
        "part": "whole"
       },
       "id": "493f8e0f-4da4-46dc-9c62-007cc725d190"
      }
     }
    },
    "3cf71c70-1339-4f91-be58-7b7c109ec9fb": {
     "id": "3cf71c70-1339-4f91-be58-7b7c109ec9fb",
     "prev": "067719f1-51b0-4369-8880-2147b229668e",
     "regions": {
      "5f104b41-5d48-4a1a-b6c6-ec226d1d40a9": {
       "attrs": {
        "height": 0.8,
        "width": 0.8,
        "x": 0.1,
        "y": 0.1
       },
       "content": {
        "cell": "782796a4-feef-43bd-a43c-085203c2306e",
        "part": "whole"
       },
       "id": "5f104b41-5d48-4a1a-b6c6-ec226d1d40a9"
      }
     }
    },
    "419c44c0-76ce-46f6-9901-6e329c9f619b": {
     "id": "419c44c0-76ce-46f6-9901-6e329c9f619b",
     "prev": "6c572ee0-8898-4a0f-80ff-2e5c4fc99084",
     "regions": {
      "5b7f4852-bb0e-4cd7-8d92-b4948fd901e3": {
       "attrs": {
        "height": 0.8,
        "width": 0.8,
        "x": 0.1,
        "y": 0.1
       },
       "content": {
        "cell": "513d93b3-2dc4-4904-a064-983f53af5b53",
        "part": "whole"
       },
       "id": "5b7f4852-bb0e-4cd7-8d92-b4948fd901e3"
      }
     }
    },
    "42fae75f-672d-47a9-8064-6d783c7f240f": {
     "id": "42fae75f-672d-47a9-8064-6d783c7f240f",
     "prev": "85932139-3e80-47d0-b729-5d704bd34bd3",
     "regions": {
      "02c908c0-6b59-4570-ab8c-005aa9e87bd6": {
       "attrs": {
        "height": 0.8,
        "width": 0.8,
        "x": 0.1,
        "y": 0.1
       },
       "content": {
        "cell": "fc6f7e21-f42f-4685-87f5-de979b6b5bf5",
        "part": "whole"
       },
       "id": "02c908c0-6b59-4570-ab8c-005aa9e87bd6"
      }
     }
    },
    "45b9655d-1bbc-40c4-b864-8b5f8bc997d0": {
     "id": "45b9655d-1bbc-40c4-b864-8b5f8bc997d0",
     "prev": "09e4e2dd-a516-4aa1-b4f1-20fd4632a6c4",
     "regions": {
      "f1996fe7-7f61-4ccc-95da-219215bd39a2": {
       "attrs": {
        "height": 0.8,
        "width": 0.8,
        "x": 0.1,
        "y": 0.1
       },
       "content": {
        "cell": "d9c8a334-d0af-4e13-b01b-d36af95ada91",
        "part": "whole"
       },
       "id": "f1996fe7-7f61-4ccc-95da-219215bd39a2"
      }
     }
    },
    "45be053d-c5ef-4764-b268-1969aefc0827": {
     "id": "45be053d-c5ef-4764-b268-1969aefc0827",
     "prev": "d5e915f7-e611-4b3a-a685-5069ebf6f27f",
     "regions": {
      "94e60dbb-eebc-4212-9c70-21c26e7002b7": {
       "attrs": {
        "height": 0.8,
        "width": 0.8,
        "x": 0.1,
        "y": 0.1
       },
       "content": {
        "cell": "bd381888-a69e-4705-a946-e71ddcaf9ba7",
        "part": "whole"
       },
       "id": "94e60dbb-eebc-4212-9c70-21c26e7002b7"
      }
     }
    },
    "496bc526-75c0-43e8-a957-1448d6ba3600": {
     "id": "496bc526-75c0-43e8-a957-1448d6ba3600",
     "prev": "3cf71c70-1339-4f91-be58-7b7c109ec9fb",
     "regions": {
      "de6eb1a4-f002-438d-bcaf-3fdadd3da6d1": {
       "attrs": {
        "height": 0.8,
        "width": 0.8,
        "x": 0.1,
        "y": 0.1
       },
       "content": {
        "cell": "78dc3119-e949-4eda-9c59-d4342cd0ebb2",
        "part": "whole"
       },
       "id": "de6eb1a4-f002-438d-bcaf-3fdadd3da6d1"
      }
     }
    },
    "4a3f5f73-8e18-495c-92c5-495f6e4d88fe": {
     "id": "4a3f5f73-8e18-495c-92c5-495f6e4d88fe",
     "prev": "a2c4787e-641d-455f-87e0-fc94e23cd9ef",
     "regions": {
      "2fbbdfba-b208-49e4-9821-909dc5450bfd": {
       "attrs": {
        "height": 0.8,
        "width": 0.8,
        "x": 0.1,
        "y": 0.1
       },
       "content": {
        "cell": "7cdb84f0-2cc8-492e-814e-4871c60c4573",
        "part": "whole"
       },
       "id": "2fbbdfba-b208-49e4-9821-909dc5450bfd"
      }
     }
    },
    "4df84d08-17b2-478e-be37-3284bf2752ae": {
     "id": "4df84d08-17b2-478e-be37-3284bf2752ae",
     "prev": "980f2556-eab2-4ad4-a922-041528aa870d",
     "regions": {
      "597cfe3d-eb7d-4b77-acfa-0ed75d5cfd9b": {
       "attrs": {
        "height": 0.8,
        "width": 0.8,
        "x": 0.1,
        "y": 0.1
       },
       "content": {
        "cell": "f48107a6-59c4-4cf3-920e-6ce08ce156bc",
        "part": "whole"
       },
       "id": "597cfe3d-eb7d-4b77-acfa-0ed75d5cfd9b"
      }
     }
    },
    "522920ea-9a37-4816-8132-76c85cb2a7fb": {
     "id": "522920ea-9a37-4816-8132-76c85cb2a7fb",
     "prev": "9e022dc0-ed22-4df9-bb85-13a1b33a9f46",
     "regions": {
      "adb3337e-9898-4527-9e08-d39adeb9629c": {
       "attrs": {
        "height": 0.8,
        "width": 0.8,
        "x": 0.1,
        "y": 0.1
       },
       "content": {
        "cell": "b3992359-abf3-4a56-a926-f39efeea9e96",
        "part": "whole"
       },
       "id": "adb3337e-9898-4527-9e08-d39adeb9629c"
      }
     }
    },
    "5235760f-7ea6-4558-9eb4-dc983a74deca": {
     "id": "5235760f-7ea6-4558-9eb4-dc983a74deca",
     "prev": "398de88a-ce67-42f0-8c76-3d640e812d9a",
     "regions": {
      "e3ab7b78-c6ea-4ebb-8d9c-1473d8f6dccb": {
       "attrs": {
        "height": 0.8,
        "width": 0.8,
        "x": 0.1,
        "y": 0.1
       },
       "content": {
        "cell": "75515656-58b1-4b74-8727-8ea529714332",
        "part": "whole"
       },
       "id": "e3ab7b78-c6ea-4ebb-8d9c-1473d8f6dccb"
      }
     }
    },
    "55db6b69-793d-4e18-b8be-78d027bb3769": {
     "id": "55db6b69-793d-4e18-b8be-78d027bb3769",
     "prev": "61626dc1-d97f-4252-aafd-07d2da5dc420",
     "regions": {
      "056b1a91-c7a0-45ab-af32-0b83bd98d08b": {
       "attrs": {
        "height": 0.8,
        "width": 0.8,
        "x": 0.1,
        "y": 0.1
       },
       "content": {
        "cell": "75ca6924-36d3-4042-a4a6-48091e6ce513",
        "part": "whole"
       },
       "id": "056b1a91-c7a0-45ab-af32-0b83bd98d08b"
      }
     }
    },
    "58f0492e-12d7-4cc2-b661-ff484305718e": {
     "id": "58f0492e-12d7-4cc2-b661-ff484305718e",
     "prev": "55db6b69-793d-4e18-b8be-78d027bb3769",
     "regions": {
      "44909826-2c22-406c-946c-332ea9b19423": {
       "attrs": {
        "height": 0.8,
        "width": 0.8,
        "x": 0.1,
        "y": 0.1
       },
       "content": {
        "cell": "fd54fdf7-89c0-4867-b133-f06aa7270c22",
        "part": "whole"
       },
       "id": "44909826-2c22-406c-946c-332ea9b19423"
      }
     }
    },
    "5b877858-cdaf-42f8-884f-5ee9c05f22a5": {
     "id": "5b877858-cdaf-42f8-884f-5ee9c05f22a5",
     "prev": "b8b7cf21-abe9-43e7-bb38-45e06031d8e8",
     "regions": {
      "b65e0cab-85bd-418e-a601-2672027923fb": {
       "attrs": {
        "height": 0.8,
        "width": 0.8,
        "x": 0.1,
        "y": 0.1
       },
       "content": {
        "cell": "4efcec09-3dad-4f7a-ad11-3bd2f8f9ada4",
        "part": "whole"
       },
       "id": "b65e0cab-85bd-418e-a601-2672027923fb"
      }
     }
    },
    "5c12a04c-2009-4165-b1e4-0881af964703": {
     "id": "5c12a04c-2009-4165-b1e4-0881af964703",
     "prev": "26106e9c-1033-4e43-9d33-e3a9157a3cd4",
     "regions": {
      "9973c117-8f52-4015-b960-a0ce8b703444": {
       "attrs": {
        "height": 0.8,
        "width": 0.8,
        "x": 0.1,
        "y": 0.1
       },
       "content": {
        "cell": "50fcc5e7-3b75-43e5-a4cd-b4a30cbdc783",
        "part": "whole"
       },
       "id": "9973c117-8f52-4015-b960-a0ce8b703444"
      }
     }
    },
    "61626dc1-d97f-4252-aafd-07d2da5dc420": {
     "id": "61626dc1-d97f-4252-aafd-07d2da5dc420",
     "prev": "5235760f-7ea6-4558-9eb4-dc983a74deca",
     "regions": {
      "c971a500-374c-40c7-b74a-a12c4b81e921": {
       "attrs": {
        "height": 0.8,
        "width": 0.8,
        "x": 0.1,
        "y": 0.1
       },
       "content": {
        "cell": "d06cd171-637c-4964-9b5a-38f91e9af78d",
        "part": "whole"
       },
       "id": "c971a500-374c-40c7-b74a-a12c4b81e921"
      }
     }
    },
    "6458e63c-7464-4a66-888a-4223cda0b20d": {
     "id": "6458e63c-7464-4a66-888a-4223cda0b20d",
     "prev": "abab61b2-a24a-4c27-99b7-4b83345b1c48",
     "regions": {
      "5dc6a99c-64d9-411f-95e3-1a5a7439104f": {
       "attrs": {
        "height": 0.8,
        "width": 0.8,
        "x": 0.1,
        "y": 0.1
       },
       "content": {
        "cell": "b27e3df1-1b94-4b4c-9e0d-3227d32c8c51",
        "part": "whole"
       },
       "id": "5dc6a99c-64d9-411f-95e3-1a5a7439104f"
      }
     }
    },
    "6636f35c-c35c-49ed-b02c-034d0334bbba": {
     "id": "6636f35c-c35c-49ed-b02c-034d0334bbba",
     "prev": "b290371e-6620-4e09-b271-617e6321e67f",
     "regions": {
      "0dbc092d-4591-4cbb-8356-c03a43e1e8f5": {
       "attrs": {
        "height": 0.8,
        "width": 0.8,
        "x": 0.1,
        "y": 0.1
       },
       "content": {
        "cell": "d81c0891-18a9-4e93-97ee-41ace11d3960",
        "part": "whole"
       },
       "id": "0dbc092d-4591-4cbb-8356-c03a43e1e8f5"
      }
     }
    },
    "67f2964e-f04d-4b1d-88d6-b04895575f7c": {
     "id": "67f2964e-f04d-4b1d-88d6-b04895575f7c",
     "prev": "27ab1afb-1b1e-4a27-999f-71e34a23686f",
     "regions": {
      "b0680e0e-030c-4b21-be06-c75fbb322cfc": {
       "attrs": {
        "height": 0.8,
        "width": 0.8,
        "x": 0.1,
        "y": 0.1
       },
       "content": {
        "cell": "29edde3d-c360-44e6-bb94-b6270879a824",
        "part": "whole"
       },
       "id": "b0680e0e-030c-4b21-be06-c75fbb322cfc"
      }
     }
    },
    "67fc19cb-aa66-428e-8b5d-bda2a4fc22cf": {
     "id": "67fc19cb-aa66-428e-8b5d-bda2a4fc22cf",
     "prev": "6ad09d40-8848-4817-8c29-ac45614646a5",
     "regions": {
      "34851f91-3d8e-4b36-94c3-59fe6dfb2caf": {
       "attrs": {
        "height": 0.8,
        "width": 0.8,
        "x": 0.1,
        "y": 0.1
       },
       "content": {
        "cell": "50b1f406-b635-496a-a327-0363bc6f09b1",
        "part": "whole"
       },
       "id": "34851f91-3d8e-4b36-94c3-59fe6dfb2caf"
      }
     }
    },
    "6ad09d40-8848-4817-8c29-ac45614646a5": {
     "id": "6ad09d40-8848-4817-8c29-ac45614646a5",
     "prev": "f96d932e-24d1-4aaa-bb54-124bbabda2e0",
     "regions": {
      "7ffd9d49-feef-4afe-8c24-44be2cbb0647": {
       "attrs": {
        "height": 0.8,
        "width": 0.8,
        "x": 0.1,
        "y": 0.1
       },
       "content": {
        "cell": "21f18d2d-9ddb-40a7-ac85-7001f46bb712",
        "part": "whole"
       },
       "id": "7ffd9d49-feef-4afe-8c24-44be2cbb0647"
      }
     }
    },
    "6b28e099-8aea-4306-b079-c0ac1168a826": {
     "id": "6b28e099-8aea-4306-b079-c0ac1168a826",
     "prev": "f7ebc26e-b550-4e9c-a521-69c7dedc2a2d",
     "regions": {
      "229b6bf6-70ef-48af-b54d-2abdfcdc980d": {
       "attrs": {
        "height": 0.8,
        "width": 0.8,
        "x": 0.1,
        "y": 0.1
       },
       "content": {
        "cell": "2cfc0f08-ee48-498e-bdbf-6f2af90e6b96",
        "part": "whole"
       },
       "id": "229b6bf6-70ef-48af-b54d-2abdfcdc980d"
      }
     }
    },
    "6c572ee0-8898-4a0f-80ff-2e5c4fc99084": {
     "id": "6c572ee0-8898-4a0f-80ff-2e5c4fc99084",
     "prev": "c9af952f-80a3-4560-b2ea-b55dd13c4dc1",
     "regions": {
      "9fd48898-8dc9-4a8d-bb11-7afb1eb36ba5": {
       "attrs": {
        "height": 0.8,
        "width": 0.8,
        "x": 0.1,
        "y": 0.1
       },
       "content": {
        "cell": "89fd7c98-78e3-4492-bcc0-4bcbb8d3cb64",
        "part": "whole"
       },
       "id": "9fd48898-8dc9-4a8d-bb11-7afb1eb36ba5"
      }
     }
    },
    "725c3636-2ab2-41d2-ab09-d706c7e9f2cc": {
     "id": "725c3636-2ab2-41d2-ab09-d706c7e9f2cc",
     "prev": "000116b7-7531-49b9-a0a0-49c266d4a263",
     "regions": {
      "84e42f7b-fff9-4e73-b554-778ee85c3ad8": {
       "attrs": {
        "height": 0.8,
        "width": 0.8,
        "x": 0.1,
        "y": 0.1
       },
       "content": {
        "cell": "15a62b9e-fcf0-47e3-9cdd-54fc28e17155",
        "part": "whole"
       },
       "id": "84e42f7b-fff9-4e73-b554-778ee85c3ad8"
      }
     }
    },
    "7c4d5b83-da7f-47bd-8ef5-a4165fdd7efa": {
     "id": "7c4d5b83-da7f-47bd-8ef5-a4165fdd7efa",
     "prev": "7f6e50a7-2c59-4c0d-afc1-00a7fd67f8b5",
     "regions": {
      "42574e69-5bba-4d9e-b0c5-9ffc8a8c63d0": {
       "attrs": {
        "height": 0.8,
        "width": 0.8,
        "x": 0.1,
        "y": 0.1
       },
       "content": {
        "cell": "cb42398c-ddb0-40c0-9ce7-8eac8f5f7cb2",
        "part": "whole"
       },
       "id": "42574e69-5bba-4d9e-b0c5-9ffc8a8c63d0"
      }
     }
    },
    "7d63ba8b-4248-438f-a982-e1537a48c247": {
     "id": "7d63ba8b-4248-438f-a982-e1537a48c247",
     "prev": "e3896ecc-6d2d-4fec-a6c6-e186d89093d6",
     "regions": {
      "cc13296e-d15a-44c9-ab79-3ca341aa8e0f": {
       "attrs": {
        "height": 0.8,
        "width": 0.8,
        "x": 0.1,
        "y": 0.1
       },
       "content": {
        "cell": "8bb76029-5f12-46d5-b560-142c1dbbc8b4",
        "part": "whole"
       },
       "id": "cc13296e-d15a-44c9-ab79-3ca341aa8e0f"
      }
     }
    },
    "7d87555a-0530-4987-9a50-a6ee21732f27": {
     "id": "7d87555a-0530-4987-9a50-a6ee21732f27",
     "prev": "39a0b0b8-e8d2-453a-b072-89328b97216f",
     "regions": {
      "e06c973c-9a58-4f75-8fd7-3f3eb0a4e35f": {
       "attrs": {
        "height": 0.8,
        "width": 0.8,
        "x": 0.1,
        "y": 0.1
       },
       "content": {
        "cell": "68eca156-fab1-4278-a073-a45ac6c27a1c",
        "part": "whole"
       },
       "id": "e06c973c-9a58-4f75-8fd7-3f3eb0a4e35f"
      }
     }
    },
    "7f6e50a7-2c59-4c0d-afc1-00a7fd67f8b5": {
     "id": "7f6e50a7-2c59-4c0d-afc1-00a7fd67f8b5",
     "prev": "fce52559-1009-4fb6-97fb-28a01f781d9e",
     "regions": {
      "d587804d-65f5-489c-9f73-fbfbb267f518": {
       "attrs": {
        "height": 0.8,
        "width": 0.8,
        "x": 0.1,
        "y": 0.1
       },
       "content": {
        "cell": "a7495f5b-467b-4b07-912f-e6487fa67e95",
        "part": "whole"
       },
       "id": "d587804d-65f5-489c-9f73-fbfbb267f518"
      }
     }
    },
    "82b6c282-abb7-4364-b5bd-f4ad9e585c1f": {
     "id": "82b6c282-abb7-4364-b5bd-f4ad9e585c1f",
     "prev": "f9fde18a-5595-4744-a63d-5d738ec56db4",
     "regions": {
      "af2a7eac-95f3-4edc-b694-edf216299ff9": {
       "attrs": {
        "height": 0.8,
        "width": 0.8,
        "x": 0.1,
        "y": 0.1
       },
       "content": {
        "cell": "186c2de4-2467-40a1-be0e-4cf153120fa7",
        "part": "whole"
       },
       "id": "af2a7eac-95f3-4edc-b694-edf216299ff9"
      }
     }
    },
    "8539c64a-55e1-436b-87c0-d2a2b8c6bdf0": {
     "id": "8539c64a-55e1-436b-87c0-d2a2b8c6bdf0",
     "prev": "7d87555a-0530-4987-9a50-a6ee21732f27",
     "regions": {
      "1949e6fc-58b6-4022-a3f6-29471fbbfa4b": {
       "attrs": {
        "height": 0.8,
        "width": 0.8,
        "x": 0.1,
        "y": 0.1
       },
       "content": {
        "cell": "b5ec9249-d8a0-4501-8779-cb6ef709e62c",
        "part": "whole"
       },
       "id": "1949e6fc-58b6-4022-a3f6-29471fbbfa4b"
      }
     }
    },
    "85932139-3e80-47d0-b729-5d704bd34bd3": {
     "id": "85932139-3e80-47d0-b729-5d704bd34bd3",
     "prev": "82b6c282-abb7-4364-b5bd-f4ad9e585c1f",
     "regions": {
      "7ba99974-8323-4522-9180-0f4e74283c44": {
       "attrs": {
        "height": 0.8,
        "width": 0.8,
        "x": 0.1,
        "y": 0.1
       },
       "content": {
        "cell": "18c2770e-7b64-4e25-a9b9-b940c1e01ec9",
        "part": "whole"
       },
       "id": "7ba99974-8323-4522-9180-0f4e74283c44"
      }
     }
    },
    "86b3c3f5-80db-401a-8163-6c637961c52e": {
     "id": "86b3c3f5-80db-401a-8163-6c637961c52e",
     "prev": "bf5f5645-d458-4186-9f45-ad8f30721b18",
     "regions": {
      "4fc50390-e694-4942-9668-47ea62758fd3": {
       "attrs": {
        "height": 0.8,
        "width": 0.8,
        "x": 0.1,
        "y": 0.1
       },
       "content": {
        "cell": "5c72f779-fb1e-4a13-b520-754493b519db",
        "part": "whole"
       },
       "id": "4fc50390-e694-4942-9668-47ea62758fd3"
      }
     }
    },
    "872ccc1a-eb69-4f8b-a043-565a415a9ccb": {
     "id": "872ccc1a-eb69-4f8b-a043-565a415a9ccb",
     "prev": "c17dbac1-b4aa-44d2-8861-e37d97d63995",
     "regions": {
      "6b4cc7c4-89a5-4747-b32b-64f8024cdb6f": {
       "attrs": {
        "height": 0.8,
        "width": 0.8,
        "x": 0.1,
        "y": 0.1
       },
       "content": {
        "cell": "997b321e-e08c-46e1-9cef-a72695fc1b02",
        "part": "whole"
       },
       "id": "6b4cc7c4-89a5-4747-b32b-64f8024cdb6f"
      }
     }
    },
    "89b905d1-a980-4747-b0c8-6e63fc1d19ea": {
     "id": "89b905d1-a980-4747-b0c8-6e63fc1d19ea",
     "prev": "a714d39d-aa51-4c47-871b-f1296a655392",
     "regions": {
      "39bad90b-4d92-418d-8c8f-7b6b045f40fb": {
       "attrs": {
        "height": 0.8,
        "width": 0.8,
        "x": 0.1,
        "y": 0.1
       },
       "content": {
        "cell": "a4e2bd48-68d6-49b8-9fd8-36da03e23b73",
        "part": "whole"
       },
       "id": "39bad90b-4d92-418d-8c8f-7b6b045f40fb"
      }
     }
    },
    "8d3ac7b5-d9fe-474e-ba17-29dbddbe8962": {
     "id": "8d3ac7b5-d9fe-474e-ba17-29dbddbe8962",
     "prev": "97f71beb-6771-4647-9de1-58273adb7bbc",
     "regions": {
      "58d8be5a-d784-4f4b-98da-16531ee10a2b": {
       "attrs": {
        "height": 0.8,
        "width": 0.8,
        "x": 0.1,
        "y": 0.1
       },
       "content": {
        "cell": "5dd9deed-5b18-4142-a51b-ce110d55eb69",
        "part": "whole"
       },
       "id": "58d8be5a-d784-4f4b-98da-16531ee10a2b"
      }
     }
    },
    "935f0e7f-5802-48eb-8a40-42b207be440f": {
     "id": "935f0e7f-5802-48eb-8a40-42b207be440f",
     "prev": "89b905d1-a980-4747-b0c8-6e63fc1d19ea",
     "regions": {
      "b00d0bd5-860a-4793-a8d3-9c4fc72c1a96": {
       "attrs": {
        "height": 0.8,
        "width": 0.8,
        "x": 0.1,
        "y": 0.1
       },
       "content": {
        "cell": "4c4c1172-3056-44d5-94b8-7561fa030981",
        "part": "whole"
       },
       "id": "b00d0bd5-860a-4793-a8d3-9c4fc72c1a96"
      }
     }
    },
    "97f71beb-6771-4647-9de1-58273adb7bbc": {
     "id": "97f71beb-6771-4647-9de1-58273adb7bbc",
     "prev": "6b28e099-8aea-4306-b079-c0ac1168a826",
     "regions": {
      "cdbae95a-5dd9-453f-ae8e-0b75e76a774f": {
       "attrs": {
        "height": 0.8,
        "width": 0.8,
        "x": 0.1,
        "y": 0.1
       },
       "content": {
        "cell": "9983c9d5-3be3-474d-a99d-5a21edcdba3f",
        "part": "whole"
       },
       "id": "cdbae95a-5dd9-453f-ae8e-0b75e76a774f"
      }
     }
    },
    "980f2556-eab2-4ad4-a922-041528aa870d": {
     "id": "980f2556-eab2-4ad4-a922-041528aa870d",
     "prev": "67f2964e-f04d-4b1d-88d6-b04895575f7c",
     "regions": {
      "0a34102e-f673-463d-ba50-ec61b0d73a5a": {
       "attrs": {
        "height": 0.8,
        "width": 0.8,
        "x": 0.1,
        "y": 0.1
       },
       "content": {
        "cell": "33b8bcc1-2a55-488b-8a2f-fbda77177a1d",
        "part": "whole"
       },
       "id": "0a34102e-f673-463d-ba50-ec61b0d73a5a"
      }
     }
    },
    "9a68e8d9-e724-464e-8b07-2cdfb8a5d907": {
     "id": "9a68e8d9-e724-464e-8b07-2cdfb8a5d907",
     "prev": "d42c9019-814d-4182-a348-9d25692932a1",
     "regions": {
      "1bb8bfa5-1595-4fa1-aa0f-945924ab2722": {
       "attrs": {
        "height": 0.8,
        "width": 0.8,
        "x": 0.1,
        "y": 0.1
       },
       "content": {
        "cell": "9e99507f-7181-4ce5-abdd-555ba9733d57",
        "part": "whole"
       },
       "id": "1bb8bfa5-1595-4fa1-aa0f-945924ab2722"
      }
     }
    },
    "9e022dc0-ed22-4df9-bb85-13a1b33a9f46": {
     "id": "9e022dc0-ed22-4df9-bb85-13a1b33a9f46",
     "prev": "2c753659-6b33-4f56-8d70-787a929fea47",
     "regions": {
      "ae91097b-3e3a-48c1-b584-2e8533c5de73": {
       "attrs": {
        "height": 0.8,
        "width": 0.8,
        "x": 0.1,
        "y": 0.1
       },
       "content": {
        "cell": "c75c6b0b-dad4-4b5e-a161-f01aaa3cd73a",
        "part": "whole"
       },
       "id": "ae91097b-3e3a-48c1-b584-2e8533c5de73"
      }
     }
    },
    "a1ec5062-22cb-4005-b18f-28ccb8e4d50d": {
     "id": "a1ec5062-22cb-4005-b18f-28ccb8e4d50d",
     "prev": "1ecded6f-560a-43c8-aea3-51c69660d7a0",
     "regions": {
      "35a0d3dd-1b3d-46f1-b4db-d6a0bf87fb60": {
       "attrs": {
        "height": 0.8,
        "width": 0.8,
        "x": 0.1,
        "y": 0.1
       },
       "content": {
        "cell": "69578fb3-c0aa-4cf7-abea-943b57abe2a2",
        "part": "whole"
       },
       "id": "35a0d3dd-1b3d-46f1-b4db-d6a0bf87fb60"
      }
     }
    },
    "a2c4787e-641d-455f-87e0-fc94e23cd9ef": {
     "id": "a2c4787e-641d-455f-87e0-fc94e23cd9ef",
     "prev": "a1ec5062-22cb-4005-b18f-28ccb8e4d50d",
     "regions": {
      "ab66595a-943e-4925-bb59-beff566648fd": {
       "attrs": {
        "height": 0.8,
        "width": 0.8,
        "x": 0.1,
        "y": 0.1
       },
       "content": {
        "cell": "e9c61a64-93c1-4bdd-8938-6f82f9a332a3",
        "part": "whole"
       },
       "id": "ab66595a-943e-4925-bb59-beff566648fd"
      }
     }
    },
    "a3a0f496-fabb-41e4-8e4d-32d1d7cb296c": {
     "id": "a3a0f496-fabb-41e4-8e4d-32d1d7cb296c",
     "prev": "b68dcc9f-551a-4296-a273-95ae80e6c7e2",
     "regions": {
      "4caf4e19-bc2e-4772-a9c7-af4f1390087b": {
       "attrs": {
        "height": 0.8,
        "width": 0.8,
        "x": 0.1,
        "y": 0.1
       },
       "content": {
        "cell": "29222439-1940-43aa-b32a-b2c71fe1900b",
        "part": "whole"
       },
       "id": "4caf4e19-bc2e-4772-a9c7-af4f1390087b"
      }
     }
    },
    "a714d39d-aa51-4c47-871b-f1296a655392": {
     "id": "a714d39d-aa51-4c47-871b-f1296a655392",
     "prev": "4a3f5f73-8e18-495c-92c5-495f6e4d88fe",
     "regions": {
      "63cc00c0-bfcc-4cc1-99c8-d249e9fffcdf": {
       "attrs": {
        "height": 0.8,
        "width": 0.8,
        "x": 0.1,
        "y": 0.1
       },
       "content": {
        "cell": "93aefc17-fd92-4d96-9c83-bd3dacb452c0",
        "part": "whole"
       },
       "id": "63cc00c0-bfcc-4cc1-99c8-d249e9fffcdf"
      }
     }
    },
    "a8049e61-4099-4459-9194-a7eead63ae5c": {
     "id": "a8049e61-4099-4459-9194-a7eead63ae5c",
     "prev": "8539c64a-55e1-436b-87c0-d2a2b8c6bdf0",
     "regions": {
      "57b6ccfc-08f8-4d1d-8bd9-e98f11602d9e": {
       "attrs": {
        "height": 0.8,
        "width": 0.8,
        "x": 0.1,
        "y": 0.1
       },
       "content": {
        "cell": "c21b8fd3-fe5d-4953-ab77-eee5b305ca64",
        "part": "whole"
       },
       "id": "57b6ccfc-08f8-4d1d-8bd9-e98f11602d9e"
      }
     }
    },
    "a8797c82-7aeb-4693-8e92-6734a9b8c145": {
     "id": "a8797c82-7aeb-4693-8e92-6734a9b8c145",
     "prev": "e8d76869-e728-4b29-87b7-6b7ac154f215",
     "regions": {
      "cf54442a-0f48-4f0e-81ff-047f41a77e8c": {
       "attrs": {
        "height": 0.8,
        "width": 0.8,
        "x": 0.1,
        "y": 0.1
       },
       "content": {
        "cell": "40bb4e4a-3005-4fed-8017-7596d417fca7",
        "part": "whole"
       },
       "id": "cf54442a-0f48-4f0e-81ff-047f41a77e8c"
      }
     }
    },
    "a91cfde2-68e8-48e8-8b8b-f9c67689cb1a": {
     "id": "a91cfde2-68e8-48e8-8b8b-f9c67689cb1a",
     "prev": "f873524a-e467-46bc-8534-a96347d9de1a",
     "regions": {
      "c78480ce-63df-487a-a28b-2c985b76bfdd": {
       "attrs": {
        "height": 0.8,
        "width": 0.8,
        "x": 0.1,
        "y": 0.1
       },
       "content": {
        "cell": "3e033c86-dd40-4911-a29a-aa680d2484cb",
        "part": "whole"
       },
       "id": "c78480ce-63df-487a-a28b-2c985b76bfdd"
      }
     }
    },
    "abab61b2-a24a-4c27-99b7-4b83345b1c48": {
     "id": "abab61b2-a24a-4c27-99b7-4b83345b1c48",
     "prev": "2279cf25-aafc-433c-9fe4-a9015b998672",
     "regions": {
      "b9e2e766-73a5-41e5-846b-7d8fff0e3263": {
       "attrs": {
        "height": 0.8,
        "width": 0.8,
        "x": 0.1,
        "y": 0.1
       },
       "content": {
        "cell": "dea0c6de-d14a-46f9-a54a-e7c388c1002f",
        "part": "whole"
       },
       "id": "b9e2e766-73a5-41e5-846b-7d8fff0e3263"
      }
     }
    },
    "acb23367-d1fc-4fcf-a9f9-e3ccccc3e73d": {
     "id": "acb23367-d1fc-4fcf-a9f9-e3ccccc3e73d",
     "prev": "12f15957-3552-45cc-9dba-7b8482b080f0",
     "regions": {
      "c145db58-907e-4fe1-95d5-84b425eadc0c": {
       "attrs": {
        "height": 0.8,
        "width": 0.8,
        "x": 0.1,
        "y": 0.1
       },
       "content": {
        "cell": "b9ab3de4-d4f5-485f-a0dd-e135e12cd2c9",
        "part": "whole"
       },
       "id": "c145db58-907e-4fe1-95d5-84b425eadc0c"
      }
     }
    },
    "b113dde3-c952-4520-b3c9-2061616bb4e2": {
     "id": "b113dde3-c952-4520-b3c9-2061616bb4e2",
     "prev": "a3a0f496-fabb-41e4-8e4d-32d1d7cb296c",
     "regions": {
      "0c3eac31-74b8-45e1-82b2-13f3018a1773": {
       "attrs": {
        "height": 0.8,
        "width": 0.8,
        "x": 0.1,
        "y": 0.1
       },
       "content": {
        "cell": "6ef4eaa6-0d2a-4d53-91d9-3de92619d123",
        "part": "whole"
       },
       "id": "0c3eac31-74b8-45e1-82b2-13f3018a1773"
      }
     }
    },
    "b290371e-6620-4e09-b271-617e6321e67f": {
     "id": "b290371e-6620-4e09-b271-617e6321e67f",
     "prev": "2c3d412b-553d-4412-aa0b-bda01358bca6",
     "regions": {
      "23434cd8-2976-40ff-95e3-a6e5fdb008ef": {
       "attrs": {
        "height": 0.8,
        "width": 0.8,
        "x": 0.1,
        "y": 0.1
       },
       "content": {
        "cell": "dd35aae9-46e0-4d10-8e2e-cf64df1f5154",
        "part": "whole"
       },
       "id": "23434cd8-2976-40ff-95e3-a6e5fdb008ef"
      }
     }
    },
    "b4be948c-cb78-4cd3-a543-c31841ed9498": {
     "id": "b4be948c-cb78-4cd3-a543-c31841ed9498",
     "prev": "20da3ac2-a632-4916-bae9-b60333bba33f",
     "regions": {
      "85ac9e42-a6ed-43d0-bb96-f9a35f764e42": {
       "attrs": {
        "height": 0.8,
        "width": 0.8,
        "x": 0.1,
        "y": 0.1
       },
       "content": {
        "cell": "ce82eb6c-99d2-4a5c-80ac-b5fa367c384d",
        "part": "whole"
       },
       "id": "85ac9e42-a6ed-43d0-bb96-f9a35f764e42"
      }
     }
    },
    "b68dcc9f-551a-4296-a273-95ae80e6c7e2": {
     "id": "b68dcc9f-551a-4296-a273-95ae80e6c7e2",
     "prev": "872ccc1a-eb69-4f8b-a043-565a415a9ccb",
     "regions": {
      "d4652219-5e36-4443-94a0-d18b421f4c77": {
       "attrs": {
        "height": 0.8,
        "width": 0.8,
        "x": 0.1,
        "y": 0.1
       },
       "content": {
        "cell": "5d00ba26-da89-49aa-b3d7-92bf59a22e0c",
        "part": "whole"
       },
       "id": "d4652219-5e36-4443-94a0-d18b421f4c77"
      }
     }
    },
    "b8b7cf21-abe9-43e7-bb38-45e06031d8e8": {
     "id": "b8b7cf21-abe9-43e7-bb38-45e06031d8e8",
     "prev": "168ffaa8-9205-47d9-96b3-a9026c279e01",
     "regions": {
      "42ec58db-7279-4490-9608-7ae9c0670fad": {
       "attrs": {
        "height": 0.8,
        "width": 0.8,
        "x": 0.1,
        "y": 0.1
       },
       "content": {
        "cell": "29bb02bd-d2a3-4ab4-b4f3-d854ac82d1c4",
        "part": "whole"
       },
       "id": "42ec58db-7279-4490-9608-7ae9c0670fad"
      }
     }
    },
    "b98f9bce-1372-4b6c-8aee-90e21c37f01b": {
     "id": "b98f9bce-1372-4b6c-8aee-90e21c37f01b",
     "prev": "a8049e61-4099-4459-9194-a7eead63ae5c",
     "regions": {
      "beede0d5-c441-42f0-b867-637789bed51d": {
       "attrs": {
        "height": 0.8,
        "width": 0.8,
        "x": 0.1,
        "y": 0.1
       },
       "content": {
        "cell": "800c83c2-a4ec-4d4f-bfe2-b2ac6b5f97b8",
        "part": "whole"
       },
       "id": "beede0d5-c441-42f0-b867-637789bed51d"
      }
     }
    },
    "ba97b75f-e9f4-4694-a118-76211b88527c": {
     "id": "ba97b75f-e9f4-4694-a118-76211b88527c",
     "prev": "45b9655d-1bbc-40c4-b864-8b5f8bc997d0",
     "regions": {
      "ba1f0fb7-070c-45d9-a49c-889cf33cda8d": {
       "attrs": {
        "height": 0.8,
        "width": 0.8,
        "x": 0.1,
        "y": 0.1
       },
       "content": {
        "cell": "4ea37f61-cca2-49a0-badf-7d02172b4ed1",
        "part": "whole"
       },
       "id": "ba1f0fb7-070c-45d9-a49c-889cf33cda8d"
      }
     }
    },
    "bf2ba2d2-95ed-4010-84b1-0eca62385802": {
     "id": "bf2ba2d2-95ed-4010-84b1-0eca62385802",
     "prev": "522920ea-9a37-4816-8132-76c85cb2a7fb",
     "regions": {
      "83f64199-b7bc-4783-9dc1-eca98ac0e2d8": {
       "attrs": {
        "height": 0.8,
        "width": 0.8,
        "x": 0.1,
        "y": 0.1
       },
       "content": {
        "cell": "1296718e-9846-49d7-a46e-a4ccab77fea7",
        "part": "whole"
       },
       "id": "83f64199-b7bc-4783-9dc1-eca98ac0e2d8"
      }
     }
    },
    "bf5f5645-d458-4186-9f45-ad8f30721b18": {
     "id": "bf5f5645-d458-4186-9f45-ad8f30721b18",
     "prev": "d840717d-635a-42bc-8389-541918b623dd",
     "regions": {
      "de5e2fd8-bf7a-4ad7-99d1-9a37ebd91de6": {
       "attrs": {
        "height": 0.8,
        "width": 0.8,
        "x": 0.1,
        "y": 0.1
       },
       "content": {
        "cell": "c057d7ab-89e2-4458-8220-ae23676ed63e",
        "part": "whole"
       },
       "id": "de5e2fd8-bf7a-4ad7-99d1-9a37ebd91de6"
      }
     }
    },
    "c031a508-a189-4d95-92c0-e87e5d519a89": {
     "id": "c031a508-a189-4d95-92c0-e87e5d519a89",
     "prev": "6636f35c-c35c-49ed-b02c-034d0334bbba",
     "regions": {
      "64cfc5d5-891f-4e43-9a2c-225f45ecd08b": {
       "attrs": {
        "height": 0.8,
        "width": 0.8,
        "x": 0.1,
        "y": 0.1
       },
       "content": {
        "cell": "3b315c77-8c05-44e9-b3c4-a41eee719d6d",
        "part": "whole"
       },
       "id": "64cfc5d5-891f-4e43-9a2c-225f45ecd08b"
      }
     }
    },
    "c17dbac1-b4aa-44d2-8861-e37d97d63995": {
     "id": "c17dbac1-b4aa-44d2-8861-e37d97d63995",
     "prev": "7c4d5b83-da7f-47bd-8ef5-a4165fdd7efa",
     "regions": {
      "ff537550-b563-4bd1-b546-9e77c6a6d2f0": {
       "attrs": {
        "height": 0.8,
        "width": 0.8,
        "x": 0.1,
        "y": 0.1
       },
       "content": {
        "cell": "c5546835-a0f7-4f39-81ce-e7687fb9982d",
        "part": "whole"
       },
       "id": "ff537550-b563-4bd1-b546-9e77c6a6d2f0"
      }
     }
    },
    "c9af952f-80a3-4560-b2ea-b55dd13c4dc1": {
     "id": "c9af952f-80a3-4560-b2ea-b55dd13c4dc1",
     "prev": "104a623f-bea6-40af-aa60-8d6e3c8d0b9c",
     "regions": {
      "90abea90-ba4a-4755-ba39-0e21a4a4a3ef": {
       "attrs": {
        "height": 0.8,
        "width": 0.8,
        "x": 0.1,
        "y": 0.1
       },
       "content": {
        "cell": "5dba0bcb-f28d-4be7-a6be-6a1ff8d87008",
        "part": "whole"
       },
       "id": "90abea90-ba4a-4755-ba39-0e21a4a4a3ef"
      }
     }
    },
    "d42c9019-814d-4182-a348-9d25692932a1": {
     "id": "d42c9019-814d-4182-a348-9d25692932a1",
     "prev": "d532b8da-b5de-4c4e-b4c7-082e7c75e327",
     "regions": {
      "ca3031ca-9557-45a1-b480-b0b52e0feb6c": {
       "attrs": {
        "height": 0.8,
        "width": 0.8,
        "x": 0.1,
        "y": 0.1
       },
       "content": {
        "cell": "9fd9cec1-b014-4be5-80e1-5a46db4965d8",
        "part": "whole"
       },
       "id": "ca3031ca-9557-45a1-b480-b0b52e0feb6c"
      }
     }
    },
    "d532b8da-b5de-4c4e-b4c7-082e7c75e327": {
     "id": "d532b8da-b5de-4c4e-b4c7-082e7c75e327",
     "prev": "42fae75f-672d-47a9-8064-6d783c7f240f",
     "regions": {
      "74327d43-7d4f-4b22-aa3c-bf1182b23126": {
       "attrs": {
        "height": 0.8,
        "width": 0.8,
        "x": 0.1,
        "y": 0.1
       },
       "content": {
        "cell": "287d7608-2fd7-4744-a280-8fac71ea2caf",
        "part": "whole"
       },
       "id": "74327d43-7d4f-4b22-aa3c-bf1182b23126"
      }
     }
    },
    "d5e915f7-e611-4b3a-a685-5069ebf6f27f": {
     "id": "d5e915f7-e611-4b3a-a685-5069ebf6f27f",
     "prev": "de867cc0-75a8-4a5a-b7be-8e97b6486c28",
     "regions": {
      "6b9bb40c-f083-44c4-83cb-2cf568aedae3": {
       "attrs": {
        "height": 0.8,
        "width": 0.8,
        "x": 0.1,
        "y": 0.1
       },
       "content": {
        "cell": "b1114516-8e46-460c-80e0-82db866adb2b",
        "part": "whole"
       },
       "id": "6b9bb40c-f083-44c4-83cb-2cf568aedae3"
      }
     }
    },
    "d840717d-635a-42bc-8389-541918b623dd": {
     "id": "d840717d-635a-42bc-8389-541918b623dd",
     "prev": "8d3ac7b5-d9fe-474e-ba17-29dbddbe8962",
     "regions": {
      "e411188a-c0dd-4ae8-b561-1f49476e3fe8": {
       "attrs": {
        "height": 0.8,
        "width": 0.8,
        "x": 0.1,
        "y": 0.1
       },
       "content": {
        "cell": "e7cb8731-6566-42c4-b3d7-038ad5eefbea",
        "part": "whole"
       },
       "id": "e411188a-c0dd-4ae8-b561-1f49476e3fe8"
      }
     }
    },
    "de867cc0-75a8-4a5a-b7be-8e97b6486c28": {
     "id": "de867cc0-75a8-4a5a-b7be-8e97b6486c28",
     "prev": "ba97b75f-e9f4-4694-a118-76211b88527c",
     "regions": {
      "44f886da-9d86-4443-b26a-42ae5e737af6": {
       "attrs": {
        "height": 0.8,
        "width": 0.8,
        "x": 0.1,
        "y": 0.1
       },
       "content": {
        "cell": "b6746f56-3186-4d7f-932e-c963da929091",
        "part": "whole"
       },
       "id": "44f886da-9d86-4443-b26a-42ae5e737af6"
      }
     }
    },
    "e3896ecc-6d2d-4fec-a6c6-e186d89093d6": {
     "id": "e3896ecc-6d2d-4fec-a6c6-e186d89093d6",
     "prev": "1b3d5584-feb6-4c35-88a3-032c9d3d222b",
     "regions": {
      "5ff4cf24-99cc-4340-ae67-f39c2b07cb91": {
       "attrs": {
        "height": 0.8,
        "width": 0.8,
        "x": 0.1,
        "y": 0.1
       },
       "content": {
        "cell": "c3c2347c-4eee-4129-945b-440b243c73c1",
        "part": "whole"
       },
       "id": "5ff4cf24-99cc-4340-ae67-f39c2b07cb91"
      }
     }
    },
    "e8d76869-e728-4b29-87b7-6b7ac154f215": {
     "id": "e8d76869-e728-4b29-87b7-6b7ac154f215",
     "prev": "3ad53501-2796-4d8a-a66e-9ecffdfe4a63",
     "regions": {
      "8c57dc13-7ed1-428d-b2ee-a4f34477dd64": {
       "attrs": {
        "height": 0.8,
        "width": 0.8,
        "x": 0.1,
        "y": 0.1
       },
       "content": {
        "cell": "64ff2cac-3682-471c-b7d9-4b8edb039471",
        "part": "whole"
       },
       "id": "8c57dc13-7ed1-428d-b2ee-a4f34477dd64"
      }
     }
    },
    "f56d38a7-cb78-451e-b06e-86904ca866d8": {
     "id": "f56d38a7-cb78-451e-b06e-86904ca866d8",
     "prev": "0aef87b6-2a22-4ee5-80e1-48ac2fbe1b68",
     "regions": {
      "43056a57-e182-402a-bdcc-d12f0c292502": {
       "attrs": {
        "height": 0.8,
        "width": 0.8,
        "x": 0.1,
        "y": 0.1
       },
       "content": {
        "cell": "e301f76d-e5b3-4546-ae25-6a0ea20aa38d",
        "part": "whole"
       },
       "id": "43056a57-e182-402a-bdcc-d12f0c292502"
      }
     }
    },
    "f7ebc26e-b550-4e9c-a521-69c7dedc2a2d": {
     "id": "f7ebc26e-b550-4e9c-a521-69c7dedc2a2d",
     "prev": "935f0e7f-5802-48eb-8a40-42b207be440f",
     "regions": {
      "55bdc310-049b-45b3-adf7-7a00f3b4a6dc": {
       "attrs": {
        "height": 0.8,
        "width": 0.8,
        "x": 0.1,
        "y": 0.1
       },
       "content": {
        "cell": "7b7ada56-77fc-414d-a630-895027c9c76c",
        "part": "whole"
       },
       "id": "55bdc310-049b-45b3-adf7-7a00f3b4a6dc"
      }
     }
    },
    "f873524a-e467-46bc-8534-a96347d9de1a": {
     "id": "f873524a-e467-46bc-8534-a96347d9de1a",
     "prev": "a8797c82-7aeb-4693-8e92-6734a9b8c145",
     "regions": {
      "ff106859-dd11-42bb-9735-28b620c9ba75": {
       "attrs": {
        "height": 0.8,
        "width": 0.8,
        "x": 0.1,
        "y": 0.1
       },
       "content": {
        "cell": "f1309b59-ba97-44b2-836c-fa12a945e3c7",
        "part": "whole"
       },
       "id": "ff106859-dd11-42bb-9735-28b620c9ba75"
      }
     }
    },
    "f96d932e-24d1-4aaa-bb54-124bbabda2e0": {
     "id": "f96d932e-24d1-4aaa-bb54-124bbabda2e0",
     "prev": "3b552132-4592-420d-a8e4-b83b7636731c",
     "regions": {
      "141a9b56-fda9-4f61-b845-574ebc40a0ee": {
       "attrs": {
        "height": 0.8,
        "width": 0.8,
        "x": 0.1,
        "y": 0.1
       },
       "content": {
        "cell": "3281f0a3-32d6-4cfd-9a93-512f16142d68",
        "part": "whole"
       },
       "id": "141a9b56-fda9-4f61-b845-574ebc40a0ee"
      }
     }
    },
    "f9fde18a-5595-4744-a63d-5d738ec56db4": {
     "id": "f9fde18a-5595-4744-a63d-5d738ec56db4",
     "prev": "f56d38a7-cb78-451e-b06e-86904ca866d8",
     "regions": {
      "1543a07b-e8d3-42ad-ac6b-9556a81b0d6b": {
       "attrs": {
        "height": 0.8,
        "width": 0.8,
        "x": 0.1,
        "y": 0.1
       },
       "content": {
        "cell": "61881efb-2d5a-479c-aa64-654f495b4200",
        "part": "whole"
       },
       "id": "1543a07b-e8d3-42ad-ac6b-9556a81b0d6b"
      }
     }
    },
    "fce52559-1009-4fb6-97fb-28a01f781d9e": {
     "id": "fce52559-1009-4fb6-97fb-28a01f781d9e",
     "prev": "b4be948c-cb78-4cd3-a543-c31841ed9498",
     "regions": {
      "d6a93707-4529-4032-82bd-5299aa278b69": {
       "attrs": {
        "height": 0.8,
        "width": 0.8,
        "x": 0.1,
        "y": 0.1
       },
       "content": {
        "cell": "f71a4882-d379-4f62-84ff-0290bfcc6542",
        "part": "whole"
       },
       "id": "d6a93707-4529-4032-82bd-5299aa278b69"
      }
     }
    }
   },
   "themes": {}
  }
 },
 "nbformat": 4,
 "nbformat_minor": 1
}
